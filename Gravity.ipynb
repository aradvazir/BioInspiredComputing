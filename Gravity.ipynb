{
 "cells": [
  {
   "cell_type": "code",
   "execution_count": 367,
   "metadata": {},
   "outputs": [],
   "source": [
    "import numpy as np\n",
    "import pandas as pd\n",
    "import matplotlib.pyplot as plt"
   ]
  },
  {
   "cell_type": "markdown",
   "metadata": {},
   "source": [
    "First of all, we get the data from csv file. (expected return and covariance matrix)"
   ]
  },
  {
   "cell_type": "code",
   "execution_count": 368,
   "metadata": {},
   "outputs": [],
   "source": [
    "Eret = pd.read_csv(\"expected_return.csv\").values\n",
    "covariance = pd.read_csv(\"covariance_matrix.csv\").values"
   ]
  },
  {
   "cell_type": "markdown",
   "metadata": {},
   "source": [
    "This is the class of each particle which has it's position, velocity, force from other particles and acceleration."
   ]
  },
  {
   "cell_type": "code",
   "execution_count": 369,
   "metadata": {},
   "outputs": [],
   "source": [
    "class particle:\n",
    "    def __init__(self, arr, vel):\n",
    "        self.pos = np.array(arr)\n",
    "        self.velocity = np.array(vel)\n",
    "        self.force = np.zeros(10)\n",
    "        self.a = np.zeros(10)"
   ]
  },
  {
   "cell_type": "markdown",
   "metadata": {},
   "source": [
    "We are looking to minimize the function:\n",
    "\n",
    "$$ x^TCx - \\beta x^T\\mu$$\n",
    "\n",
    "which $x^T$ is x array, C is the covariance matrix and $\\mu$ is the Eret."
   ]
  },
  {
   "cell_type": "code",
   "execution_count": 370,
   "metadata": {},
   "outputs": [],
   "source": [
    "def fitness(x, beta):\n",
    "    return -(x@covariance@np.transpose(x) - beta*(x*Eret).sum())"
   ]
  },
  {
   "cell_type": "markdown",
   "metadata": {},
   "source": [
    "This is the check function which map each array to another array which it's some is equal to 1 and all of it's elements are non-negative"
   ]
  },
  {
   "cell_type": "code",
   "execution_count": 371,
   "metadata": {},
   "outputs": [],
   "source": [
    "def check(arr):\n",
    "    arr_sum = sum(arr)\n",
    "    normalized_arr = [max(0, float(element) / arr_sum) for element in arr]\n",
    "    new_sum = sum(normalized_arr)\n",
    "    normalized_arr = [element / new_sum for element in normalized_arr]\n",
    "    \n",
    "    return np.array(normalized_arr)"
   ]
  },
  {
   "cell_type": "markdown",
   "metadata": {},
   "source": [
    "This function calcaulate the Mass array which is:\n",
    "$$ M_i(t) = \\frac{m_i(t)}{\\sum_{j=1}^{N}m_j(t)}$$"
   ]
  },
  {
   "cell_type": "code",
   "execution_count": 372,
   "metadata": {},
   "outputs": [],
   "source": [
    "def cal_Mass(arr_m):\n",
    "    sumation = arr_m.sum()\n",
    "    arr_M = np.zeros(len(arr_m))\n",
    "    for i in range(len(arr_m)):\n",
    "        arr_M[i] = arr_m[i]/(sumation - arr_m[i])\n",
    "    return arr_M"
   ]
  },
  {
   "cell_type": "markdown",
   "metadata": {},
   "source": [
    "This function calculates the m array which is:\n",
    "$$\\frac{fit_i(t) - worst(t)}{best(t) - worst(t)}$$\n",
    "where,\n",
    "$ best(t) = \\max fit_i(t)$ and $worst(t) = \\min fit_i(t)$\n"
   ]
  },
  {
   "cell_type": "code",
   "execution_count": 373,
   "metadata": {},
   "outputs": [],
   "source": [
    "def cal_m(arr_fit, w, b):\n",
    "    arr_m = np.zeros(len(arr_fit))\n",
    "    for i in range(len(arr_fit)):\n",
    "        arr_m = (arr_fit - w)/(b - w)\n",
    "    return arr_m"
   ]
  },
  {
   "cell_type": "markdown",
   "metadata": {},
   "source": [
    "This function, calculates G which is equal to:\n",
    "$$G(t) = G_0e^{\\frac{-\\alpha t}{T}}$$\n",
    "in generation t"
   ]
  },
  {
   "cell_type": "code",
   "execution_count": 374,
   "metadata": {},
   "outputs": [],
   "source": [
    "def cal_G(iteration, total_iteration, G0, alpha):\n",
    "    return G0*np.exp(-alpha*iteration/total_iteration)"
   ]
  },
  {
   "cell_type": "markdown",
   "metadata": {},
   "source": [
    "This is the force calculator:\n",
    "$$ F_{ij} = G(t) \\times \\frac{Mass_i(t) \\times Mass_j(t)}{R_{ij}(t) + \\epsilon} (x_j(t) - x_i(t)) $$"
   ]
  },
  {
   "cell_type": "code",
   "execution_count": 375,
   "metadata": {},
   "outputs": [],
   "source": [
    "def cal_force(arr_M, particles, iteration, total_iteration, G0, alpha):\n",
    "    for i in range(len(arr_M)):\n",
    "        for j in range(len(arr_M)):\n",
    "            if (i!=j or (particles[i].pos - particles[j].pos).sum() < 1e-5):\n",
    "                particles[i].force += np.random.rand(1)*cal_G(iteration, total_iteration, G0, alpha)*(arr_M[i]*arr_M[j]/(np.sqrt(((particles[i].pos - particles[j].pos)**2).sum()) + np.random.rand(1)))*(particles[j].pos - particles[i].pos)"
   ]
  },
  {
   "cell_type": "markdown",
   "metadata": {},
   "source": [
    "This is the main algorithm:\n",
    ">First of all, we make the initial population\n",
    "\n",
    ">After that for each particle, we calculate the force\n",
    "\n",
    ">the the acceleration\n",
    "\n",
    ">And after that, we update the velocity\n",
    "\n",
    ">And it's position\n",
    "We do this for iteration times and then return the best position"
   ]
  },
  {
   "cell_type": "code",
   "execution_count": 376,
   "metadata": {},
   "outputs": [],
   "source": [
    "def gravity(n, total_iteration, G0, alpha, beta):\n",
    "    np.random.seed(100)\n",
    "        \n",
    "    particles = [particle([np.random.uniform(0, 0.1) for i in range(10)], [np.random.uniform(-0.5, 0.5) for i in range(10)]) for i in range(n)]\n",
    "        \n",
    "    worst = 1000\n",
    "    best = -1000\n",
    "            \n",
    "    best_arr = np.array([])\n",
    "    all_time_best = -1000\n",
    "    \n",
    "    for i in range(total_iteration):\n",
    "        for k in range(n):\n",
    "            particles[k].pos = check(particles[k].pos)\n",
    "            \n",
    "        arr_fit = np.array([fitness(particles[k].pos, beta) for k in range(len(particles))])\n",
    "        \n",
    "        for k in range(len(particles)):\n",
    "            if (arr_fit[k] > best):\n",
    "                best = arr_fit[k]\n",
    "            elif (arr_fit[k] < worst):\n",
    "                worst = arr_fit[k]\n",
    "            \n",
    "            if (best > all_time_best):\n",
    "                all_time_best = best\n",
    "                all_time_best_pos = particles[k].pos\n",
    "                \n",
    "        best_arr = np.append(best_arr, best)\n",
    "        \n",
    "        arr_m = cal_m(arr_fit, worst, best)\n",
    "        arr_M = cal_Mass(arr_m)\n",
    "        cal_force(arr_M, particles, i, total_iteration, G0, alpha)\n",
    "        for j in range(n):\n",
    "            if (arr_M[j] != 0):\n",
    "                particles[j].a = particles[j].force/arr_M[j]\n",
    "            else:\n",
    "                particles[j].a = np.zeros(10)\n",
    "        \n",
    "        for j in range(n):\n",
    "            particles[j].velocity = np.random.rand(1)*particles[j].velocity + particles[j].a\n",
    "            particles[j].pos += particles[j].velocity\n",
    "            \n",
    "    return best_arr, check(all_time_best_pos)"
   ]
  },
  {
   "cell_type": "markdown",
   "metadata": {},
   "source": [
    "Finally this is a test for our algorithm:"
   ]
  },
  {
   "cell_type": "code",
   "execution_count": 377,
   "metadata": {},
   "outputs": [
    {
     "data": {
      "image/png": "[encoded data removed]",
      "text/plain": [
       "<Figure size 640x480 with 1 Axes>"
      ]
     },
     "metadata": {},
     "output_type": "display_data"
    }
   ],
   "source": [
    "num_ite = 50\n",
    "arr, pos = gravity(10, num_ite, 100, 1, 100)\n",
    "ite = [i+1 for i in range(num_ite)]\n",
    "plt.plot(ite, -arr)\n",
    "plt.show()"
   ]
  },
  {
   "cell_type": "code",
   "execution_count": 378,
   "metadata": {},
   "outputs": [
    {
     "data": {
      "text/plain": [
       "array([0.        , 0.        , 0.        , 0.        , 0.        ,\n",
       "       0.        , 0.10781056, 0.89218944, 0.        , 0.        ])"
      ]
     },
     "execution_count": 378,
     "metadata": {},
     "output_type": "execute_result"
    }
   ],
   "source": [
    "pos"
   ]
  },
  {
   "cell_type": "code",
   "execution_count": 379,
   "metadata": {},
   "outputs": [
    {
     "data": {
      "text/plain": [
       "0.018181128017986273"
      ]
     },
     "execution_count": 379,
     "metadata": {},
     "output_type": "execute_result"
    }
   ],
   "source": [
    "(pos*Eret).sum()"
   ]
  },
  {
   "cell_type": "code",
   "execution_count": 380,
   "metadata": {},
   "outputs": [
    {
     "data": {
      "text/plain": [
       "0.010580238343764285"
      ]
     },
     "execution_count": 380,
     "metadata": {},
     "output_type": "execute_result"
    }
   ],
   "source": [
    "pos@covariance@np.transpose(pos)"
   ]
  }
 ],
 "metadata": {
  "kernelspec": {
   "display_name": "Python 3",
   "language": "python",
   "name": "python3"
  },
  "language_info": {
   "codemirror_mode": {
    "name": "ipython",
    "version": 3
   },
   "file_extension": ".py",
   "mimetype": "text/x-python",
   "name": "python",
   "nbconvert_exporter": "python",
   "pygments_lexer": "ipython3",
   "version": "3.8.6"
  },
  "orig_nbformat": 4
 },
 "nbformat": 4,
 "nbformat_minor": 2
}
