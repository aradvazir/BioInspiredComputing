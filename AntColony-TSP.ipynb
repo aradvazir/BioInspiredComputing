{
 "cells": [
  {
   "attachments": {},
   "cell_type": "markdown",
   "id": "8c9dca9d",
   "metadata": {},
   "source": [
    "here we get the cordinants from input files"
   ]
  },
  {
   "cell_type": "code",
   "execution_count": 16,
   "metadata": {},
   "outputs": [],
   "source": [
    "# Open input file\n",
    "# infile = open('gr229.tsp', 'r')\n",
    "infile = open('pr1002.tsp', 'r')\n",
    "\n",
    "# # Read instance header for the gr229\n",
    "# Name = infile.readline().strip().split()[1] # NAME\n",
    "# FileType = infile.readline().strip().split()[1] # TYPE\n",
    "# Comment = infile.readline().strip().split()[1] # COMMENT\n",
    "# Dimension = infile.readline().strip().split()[1] # DIMENSION\n",
    "# EdgeWeightType = infile.readline().strip().split()[1] # EDGE_WEIGHT_TYPE\n",
    "# DIsplayDataType = infile.readline().strip().split()[1] # DISPLAY_DATA_TYPE\n",
    "# infile.readline()\n",
    "\n",
    "# Read instance header for the pr1002\n",
    "Name = infile.readline().strip().split()[2] # NAME\n",
    "Comment = infile.readline().strip().split()[2] # COMMENT\n",
    "FileType = infile.readline().strip().split()[2] # TYPE\n",
    "Dimension = infile.readline().strip().split()[2] # DIMENSION\n",
    "EdgeWeightType = infile.readline().strip().split()[2] # EDGE_WEIGHT_TYPE\n",
    "infile.readline()\n",
    "\n",
    "# Read node list\n",
    "nodelist = []\n",
    "N = int(Dimension)\n",
    "for i in range(N):\n",
    "    x ,y = infile.readline().strip().split(' ')[1:]\n",
    "    nodelist.append([float(x), float(y)])\n",
    "\n",
    "# Close input file\n",
    "infile.close()"
   ]
  },
  {
   "cell_type": "code",
   "execution_count": 17,
   "id": "e48637f2",
   "metadata": {},
   "outputs": [],
   "source": [
    "import numpy as np\n",
    "cor = np.array(nodelist)"
   ]
  },
  {
   "cell_type": "code",
   "execution_count": 18,
   "id": "4c09a1e0",
   "metadata": {},
   "outputs": [],
   "source": [
    "from numba import njit\n",
    "import math"
   ]
  },
  {
   "attachments": {},
   "cell_type": "markdown",
   "id": "b0a9a445",
   "metadata": {},
   "source": [
    "this is the cost function which is calculeted by sum of Euclidean distance between the citiess"
   ]
  },
  {
   "cell_type": "code",
   "execution_count": 19,
   "id": "67b8338b",
   "metadata": {},
   "outputs": [],
   "source": [
    "# @njit\n",
    "def cost_function(data):\n",
    "    fit = 0\n",
    "    for i in range(len(data)-1):\n",
    "        fit += math.sqrt((cor[data[i]][0] - cor[data[i+1]][0])**2 + (cor[data[i]][1] - cor[data[i+1]][1])**2)\n",
    "    fit += math.sqrt((cor[data[0]][0] - cor[data[-1]][0])**2 + (cor[data[0]][1] - cor[data[-1]][1])**2)\n",
    "    return fit"
   ]
  },
  {
   "attachments": {},
   "cell_type": "markdown",
   "id": "a195129a",
   "metadata": {},
   "source": [
    "in this two function, we update phermons between each two city"
   ]
  },
  {
   "cell_type": "code",
   "execution_count": 20,
   "id": "7115c6af",
   "metadata": {},
   "outputs": [],
   "source": [
    "# @njit\n",
    "def pher_update(pher, data):\n",
    "    for i in range(len(data)-1):\n",
    "        cost = cost_function(data)\n",
    "        pher[data[i]][data[i+1]] += 10/(cost*6)\n",
    "        pher[data[i+1]][data[i]] = pher[data[i]][data[i+1]]\n",
    "    pher[data[0]][data[-1]] += 10/(cost*6)\n",
    "    pher[data[-1]][data[0]] = pher[data[0]][data[-1]]"
   ]
  },
  {
   "cell_type": "code",
   "execution_count": 21,
   "id": "e0cc7bcb",
   "metadata": {},
   "outputs": [],
   "source": [
    "def total_pher_update(pher):\n",
    "    pher = 0.6*pher\n",
    "    return pher"
   ]
  },
  {
   "attachments": {},
   "cell_type": "markdown",
   "id": "ea530f26",
   "metadata": {},
   "source": [
    "this function computes the probabity of city j to be chosen to travel next"
   ]
  },
  {
   "cell_type": "code",
   "execution_count": 22,
   "id": "c9fce76c",
   "metadata": {},
   "outputs": [],
   "source": [
    "@njit\n",
    "def next_choice(pher, data, seen, i, j, alpha, beta, H):\n",
    "    if (not H.any()):\n",
    "        return 0\n",
    "    if (seen[j] == 1):\n",
    "        return 0\n",
    "    div = sum((pher[i]**alpha)*(H**beta))\n",
    "    return (pher[i][j]**alpha)*(H[j]**beta)/(div)"
   ]
  },
  {
   "attachments": {},
   "cell_type": "markdown",
   "id": "d4a88d3d",
   "metadata": {},
   "source": [
    "this is the heuristic function which is based of a distance between two cities"
   ]
  },
  {
   "cell_type": "code",
   "execution_count": 23,
   "id": "7b4a5863",
   "metadata": {},
   "outputs": [],
   "source": [
    "@njit\n",
    "def heu(seen, i):\n",
    "    h = np.zeros(len(seen))\n",
    "    if (seen.sum() == N):\n",
    "        return h\n",
    "    for j in range(len(seen)):\n",
    "        if (seen[j]==0 and i!=j):\n",
    "            h[j] = 1/(math.sqrt((cor[i][0] - cor[j][0])**2 + (cor[i][1] - cor[j][1])**2))\n",
    "    return h"
   ]
  },
  {
   "attachments": {},
   "cell_type": "markdown",
   "id": "a9366924",
   "metadata": {},
   "source": [
    "this is the main algorithm:\n",
    ">part A:\n",
    "in this part, we run the ant colony algorithm for gen_num times\n",
    "\n",
    ">part B:\n",
    "start all the ants from random city\n",
    "\n",
    ">part C:\n",
    "choose the $j^{th}$ city for each ant\n",
    "\n",
    ">part D:\n",
    "in this part we calculate the probability of choosing a subsets for all of them\n",
    "\n",
    ">part E:\n",
    "then we choose a subsets by the random number from random place\n",
    "\n",
    ">part F:\n",
    "at the end of generation, some of the phermons get disappeared\n",
    "\n",
    ">part G:\n",
    "then we find the best ant in each generation"
   ]
  },
  {
   "cell_type": "code",
   "execution_count": 24,
   "id": "4cf652ef",
   "metadata": {},
   "outputs": [],
   "source": [
    "def algorithm(a, b, ant_num, gen_num):\n",
    "    alpha = a\n",
    "    beta = b    \n",
    "    \n",
    "    phero = np.zeros((N, N))\n",
    "    for i in range(N):\n",
    "        for j in range(N):\n",
    "            phero[i] = 0.5\n",
    "            \n",
    "    paths = []\n",
    "    best = []\n",
    "    \n",
    "    for i in range(gen_num): #part A\n",
    "\n",
    "        S = np.zeros((ant_num, N), dtype=int) #is city added or not\n",
    "        cities = np.zeros((ant_num, N), dtype=int) #order of visiting cities\n",
    "        \n",
    "        ran = np.random.randint(N)\n",
    "        for j in range(ant_num): #part B\n",
    "            S[j][ran] = 1\n",
    "            cities[j][0] = ran\n",
    "        \n",
    "        for j in range(1, N):\n",
    "\n",
    "            for k in range(ant_num): #part C\n",
    "                p_choose = np.zeros(N)\n",
    "                H = heu(S[k], cities[k][j-1])\n",
    "                \n",
    "                for p in range(N): #part D\n",
    "                    p_choose[p] = next_choice(phero, cities[k], S[k], cities[k][j-1], p, alpha, beta, H)\n",
    "\n",
    "                    \n",
    "                rnd_num = np.random.rand(1)\n",
    "                b = np.random.randint(N)\n",
    "\n",
    "                su = 0\n",
    "                s = -1\n",
    "                while(su < rnd_num): #part E\n",
    "                    s += 1\n",
    "                    if (s >= N):\n",
    "                        s -= 1\n",
    "                        break\n",
    "                    su += p_choose[(s+b)%N]\n",
    "                cities[k][j] = (s+b)%N\n",
    "                S[k][(s+b)%N] = 1\n",
    "                \n",
    "        for j in range(ant_num): #part F\n",
    "            pher_update(phero, cities[j])\n",
    "        phero = total_pher_update(phero)\n",
    "            \n",
    "        b = np.inf\n",
    "        p = []\n",
    "        for j in range(ant_num): #part G\n",
    "            if (cost_function(cities[j]) < b):\n",
    "                b = cost_function(cities[j])\n",
    "                p = cities[j]\n",
    "        paths.append(p)\n",
    "        best.append(b)\n",
    "        print(b)\n",
    "    return paths, best"
   ]
  },
  {
   "cell_type": "code",
   "execution_count": 12,
   "id": "d1223957",
   "metadata": {},
   "outputs": [],
   "source": [
    "import matplotlib.pyplot as plt"
   ]
  },
  {
   "cell_type": "code",
   "execution_count": 10,
   "id": "95b415fc",
   "metadata": {},
   "outputs": [
    {
     "name": "stdout",
     "output_type": "stream",
     "text": [
      "1981.0035442710846\n",
      "1896.3954733430048\n",
      "1957.7306583359275\n",
      "1850.9575369946544\n",
      "2009.87034169255\n"
     ]
    }
   ],
   "source": [
    "path, best = algorithm(1, 20, 1000, 5) #data = gr229"
   ]
  },
  {
   "cell_type": "code",
   "execution_count": 15,
   "id": "0ce3886d",
   "metadata": {},
   "outputs": [
    {
     "data": {
      "image/png": "[encoded data removed]",
      "text/plain": [
       "<Figure size 640x480 with 1 Axes>"
      ]
     },
     "metadata": {},
     "output_type": "display_data"
    }
   ],
   "source": [
    "plt.plot([i+1 for i in range(4)], best[:4])\n",
    "plt.show()"
   ]
  },
  {
   "cell_type": "code",
   "execution_count": 27,
   "id": "4e590d6f",
   "metadata": {},
   "outputs": [
    {
     "name": "stdout",
     "output_type": "stream",
     "text": [
      "319419.67887563974\n"
     ]
    }
   ],
   "source": [
    "path, best = algorithm(1, 20, 10, 1) #data = pr1002"
   ]
  },
  {
   "cell_type": "code",
   "execution_count": 30,
   "id": "4d907da9",
   "metadata": {},
   "outputs": [
    {
     "name": "stdout",
     "output_type": "stream",
     "text": [
      "314903.45723707374\n"
     ]
    }
   ],
   "source": [
    "path, best = algorithm(1, 20, 5, 1) #data = pr1002"
   ]
  },
  {
   "cell_type": "code",
   "execution_count": 32,
   "id": "c1e08da2",
   "metadata": {},
   "outputs": [
    {
     "name": "stdout",
     "output_type": "stream",
     "text": [
      "315406.6610139918\n",
      "327650.26971145195\n",
      "312440.9148086867\n",
      "325665.0287294101\n",
      "323153.62206449296\n",
      "323711.65925960144\n",
      "325565.735233356\n",
      "319479.8989941807\n",
      "324001.9206309662\n",
      "321054.67739076226\n"
     ]
    }
   ],
   "source": [
    "path, best = algorithm(1, 20, 5, 10) #data = pr1002"
   ]
  },
  {
   "cell_type": "code",
   "execution_count": 34,
   "id": "8c5098fe",
   "metadata": {},
   "outputs": [
    {
     "data": {
      "image/png": "[encoded data removed]",
      "text/plain": [
       "<Figure size 640x480 with 1 Axes>"
      ]
     },
     "metadata": {},
     "output_type": "display_data"
    }
   ],
   "source": [
    "plt.plot([i+1 for i in range(10)], best)\n",
    "plt.show()"
   ]
  },
  {
   "attachments": {},
   "cell_type": "markdown",
   "id": "59fe4071",
   "metadata": {},
   "source": [
    "so the algorithm works pretty well for both test cases\n",
    "\n",
    "gr229 = 1850\n",
    "\n",
    "pr1002 = 312440"
   ]
  }
 ],
 "metadata": {
  "kernelspec": {
   "display_name": "Python 3",
   "language": "python",
   "name": "python3"
  },
  "language_info": {
   "codemirror_mode": {
    "name": "ipython",
    "version": 3
   },
   "file_extension": ".py",
   "mimetype": "text/x-python",
   "name": "python",
   "nbconvert_exporter": "python",
   "pygments_lexer": "ipython3",
   "version": "3.8.6"
  }
 },
 "nbformat": 4,
 "nbformat_minor": 5
}
