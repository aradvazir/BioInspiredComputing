{
 "cells": [
  {
   "cell_type": "code",
   "execution_count": 1292,
   "metadata": {},
   "outputs": [],
   "source": [
    "import numpy as np\n",
    "import pandas as pd\n",
    "import matplotlib.pyplot as plt\n",
    "import math"
   ]
  },
  {
   "cell_type": "markdown",
   "metadata": {},
   "source": [
    "First of all, we get the data from csv file. (expected return and covariance matrix)"
   ]
  },
  {
   "cell_type": "code",
   "execution_count": 1293,
   "metadata": {},
   "outputs": [],
   "source": [
    "Eret = pd.read_csv(\"expected_return.csv\").values\n",
    "covariance = pd.read_csv(\"covariance_matrix.csv\").values"
   ]
  },
  {
   "cell_type": "markdown",
   "metadata": {},
   "source": [
    "We are looking to minimize the function:\n",
    "\n",
    "$$ x^TCx - \\beta x^T\\mu$$\n",
    "\n",
    "which $x^T$ is x array, C is the covariance matrix and $\\mu$ is the Eret."
   ]
  },
  {
   "cell_type": "code",
   "execution_count": 1294,
   "metadata": {},
   "outputs": [],
   "source": [
    "def cost_func(x, beta):\n",
    "    return x@covariance@np.transpose(x) - beta*(x*Eret).sum()"
   ]
  },
  {
   "cell_type": "markdown",
   "metadata": {},
   "source": [
    "First of all, we get the data from csv file. (expected return and covariance matrix)"
   ]
  },
  {
   "cell_type": "code",
   "execution_count": 1295,
   "metadata": {},
   "outputs": [],
   "source": [
    "def check(arr):\n",
    "    arr_sum = sum(arr)\n",
    "    normalized_arr = [max(0, float(element)/arr_sum) for element in arr]\n",
    "    new_sum = sum(normalized_arr)\n",
    "    normalized_arr = [element/new_sum for element in normalized_arr]\n",
    "    \n",
    "    return np.array(normalized_arr)"
   ]
  },
  {
   "cell_type": "markdown",
   "metadata": {},
   "source": [
    "This is the selection function. We use tournament selection for this algorithm.\n",
    "\n",
    "In tournament selection, we randomly pick 4 array from population and return the one that has the lowest cost."
   ]
  },
  {
   "cell_type": "code",
   "execution_count": 1296,
   "metadata": {},
   "outputs": [],
   "source": [
    "def tournament_selection(population, beta):\n",
    "    m = 1000\n",
    "    for i in range(4):\n",
    "        random_index = np.random.randint(len(population))\n",
    "        cost = cost_func(population[random_index], beta)\n",
    "        if (cost < m):\n",
    "            m = cost\n",
    "            arr = population[random_index]\n",
    "    return arr"
   ]
  },
  {
   "cell_type": "markdown",
   "metadata": {},
   "source": [
    "crossover:\n",
    "\n",
    "We use a random alpha and build two children like this:\n",
    "$$ c_1(i) = alpha\\times (p_1(i) + p_2(i))$$\n",
    "$$ c_2(i) = (1-alpha)\\times (p_1(i) + p_2(i)) $$"
   ]
  },
  {
   "cell_type": "code",
   "execution_count": 1297,
   "metadata": {},
   "outputs": [],
   "source": [
    "def crossover(x, y):\n",
    "    alpha = np.random.rand(1)\n",
    "    \n",
    "    c1 = np.zeros(10)\n",
    "    c2 = np.zeros(10)\n",
    "    \n",
    "    for i in range(10):\n",
    "        c1[i] = alpha*(x[i] + y[i])\n",
    "        c2[i] = (1-alpha)*(x[i] + y[i])\n",
    "        \n",
    "    return c1, c2"
   ]
  },
  {
   "cell_type": "markdown",
   "metadata": {},
   "source": [
    "In mutation, we pick a random number of indexes from 1 to 8 and then give that index, a random number between 0 and 0.5"
   ]
  },
  {
   "cell_type": "code",
   "execution_count": 1298,
   "metadata": {},
   "outputs": [],
   "source": [
    "def mutation(x):\n",
    "    num = np.random.randint(3, 11)\n",
    "    for i in range(num):\n",
    "        random_index = np.random.randint(10)\n",
    "        x[random_index] = np.random.uniform(0, 1)\n",
    "    return x"
   ]
  },
  {
   "cell_type": "markdown",
   "metadata": {},
   "source": [
    "extra mutation is actully the SA algorithm. It finds the best neighbors and change it if better or in a certain situation:\n",
    "$$ rand < e^{\\frac{-(new cost - cost)}{\\frac{1}{iteration}}} $$"
   ]
  },
  {
   "cell_type": "code",
   "execution_count": 1299,
   "metadata": {},
   "outputs": [],
   "source": [
    "def extra_mutation(child, iteration, TL, beta):\n",
    "    for i in range(TL):\n",
    "        new_child = check(mutation(child))\n",
    "        \n",
    "        cost = cost_func(child, beta)\n",
    "        new_cost = cost_func(new_child, beta)\n",
    "        \n",
    "        rand = np.random.random()\n",
    "        if (new_cost < cost):\n",
    "            child = new_child.copy()\n",
    "        elif (rand < math.exp((cost - new_cost)/(10/iteration))):\n",
    "            child = new_child.copy()\n",
    "            \n",
    "    return child"
   ]
  },
  {
   "cell_type": "markdown",
   "metadata": {},
   "source": [
    "In this function, we sort ascending two array based on the first one (x)."
   ]
  },
  {
   "cell_type": "code",
   "execution_count": 1300,
   "metadata": {},
   "outputs": [],
   "source": [
    "def double_sort(x, y):\n",
    "    for i in range(len(x)):\n",
    "        for j in range(i+1, len(x)):\n",
    "            if (x[j] < x[i]):\n",
    "                x[i], x[j] = x[j], x[i]\n",
    "                t = y[i].copy()\n",
    "                y[i] = y[j]\n",
    "                y[j] = t\n",
    "    return x, y"
   ]
  },
  {
   "cell_type": "markdown",
   "metadata": {},
   "source": [
    "This is the main algorithm. This is exactly the genetic algorithm but instead of one mutation which might happen or not, we have the SA algorithm (extra mutation function)."
   ]
  },
  {
   "cell_type": "code",
   "execution_count": 1301,
   "metadata": {},
   "outputs": [],
   "source": [
    "def genetic_SA(n, iterations, TL, replace_rate, crossover_chance, mutation_chance, beta):\n",
    "    np.random.seed(100)\n",
    "    \n",
    "    population = np.array([[np.random.uniform(0, 1) for i in range(10)] for i in range(n)])\n",
    "    \n",
    "    for i in range(n):\n",
    "        population[i] = check(population[i]).copy()\n",
    "        \n",
    "    cost_array = np.array([cost_func(population[i], beta) for i in range(n)])\n",
    "    \n",
    "    min_cost = 1000\n",
    "    for i in range(len(cost_array)):\n",
    "        if (cost_array[i] < min_cost):\n",
    "            min_cost = cost_array[i]\n",
    "            min_array = population[i]\n",
    "            \n",
    "    best_generation = np.array([])\n",
    "            \n",
    "    for i in range(iteration):\n",
    "        child = np.empty((0, 10))\n",
    "        \n",
    "        for k in range(n//2):\n",
    "            p1 = tournament_selection(population, beta)\n",
    "            p2 = tournament_selection(population, beta)\n",
    "            \n",
    "            chance = np.random.rand()\n",
    "            if (chance <= crossover_chance):\n",
    "                c1, c2 = crossover(p1, p2)\n",
    "                c1 = check(c1)\n",
    "                c2 = check(c2)\n",
    "            else:\n",
    "                c1, c2 = p1, p2\n",
    "            \n",
    "            chance = np.random.rand()\n",
    "            if(chance <= mutation_chance):\n",
    "                c1 = check(extra_mutation(c1, i+1, TL, beta))\n",
    "                c2 = check(extra_mutation(c2, i+1, TL, beta))\n",
    "                 \n",
    "            child = np.concatenate((child, [c1]))\n",
    "            child = np.concatenate((child, [c2]))\n",
    "            \n",
    "        for k in range(n):\n",
    "            child[k] = check(child[k]).copy()\n",
    "            \n",
    "        cost_array = np.array([cost_func(population[j], beta) for j in range(n)])\n",
    "        cost_child = np.array([cost_func(child[j], beta) for j in range(n)])\n",
    "        cost_array, population = double_sort(cost_array, population)\n",
    "        cost_child, child = double_sort(cost_child, child)\n",
    "            \n",
    "        population = np.concatenate((population[:int(replace_rate*n)], child[:int((1-replace_rate)*n)]), axis=0)\n",
    "        \n",
    "        for k in range(n):\n",
    "            population[k] = check(population[k]).copy()\n",
    "            \n",
    "        cost_array = np.append(cost_array[:int(replace_rate*n)], cost_child[:int((1-replace_rate)*n)])\n",
    "        \n",
    "        best_index = np.where(cost_array == min(cost_array))[0][0]\n",
    "        best = cost_array[best_index]\n",
    "        last_array = population[best_index].copy()\n",
    "        best_generation = np.append(best_generation, best)\n",
    "        \n",
    "        if (best < min_cost):\n",
    "            min_cost = best\n",
    "            min_array = population[best_index].copy()\n",
    "            \n",
    "    return best_generation, min_array, last_array"
   ]
  },
  {
   "cell_type": "markdown",
   "metadata": {},
   "source": [
    "Finally, a test for our algorithm."
   ]
  },
  {
   "cell_type": "code",
   "execution_count": 1302,
   "metadata": {},
   "outputs": [
    {
     "data": {
      "image/png": "[encoded data removed]",
      "text/plain": [
       "<Figure size 640x480 with 1 Axes>"
      ]
     },
     "metadata": {},
     "output_type": "display_data"
    }
   ],
   "source": [
    "iteration = 5000\n",
    "arr, best_pos, last_pos = genetic_SA(100, iteration, 50, 0.5, 0.9, 0.9, 1) #n, iterations, TL, replace_rate, crossover_chance, mutation_chance, beta\n",
    "ite = [i+1 for i in range(iteration)]\n",
    "plt.plot(ite, arr)\n",
    "plt.show()"
   ]
  },
  {
   "cell_type": "code",
   "execution_count": 1303,
   "metadata": {},
   "outputs": [
    {
     "name": "stdout",
     "output_type": "stream",
     "text": [
      "[4.19091053e-01 1.36893561e-04 2.28053135e-03 2.88919920e-02\n",
      " 1.17424311e-03 4.70835543e-03 6.68813529e-03 4.59897749e-01\n",
      " 7.23695804e-02 4.76146708e-03]\n",
      "[0.29849953 0.03238907 0.02356739 0.03546195 0.00751786 0.00953657\n",
      " 0.00629292 0.51621249 0.05493578 0.01558644]\n"
     ]
    }
   ],
   "source": [
    "print(best_pos)\n",
    "print(last_pos)"
   ]
  },
  {
   "cell_type": "code",
   "execution_count": 1304,
   "metadata": {},
   "outputs": [
    {
     "name": "stdout",
     "output_type": "stream",
     "text": [
      "0.0164789871369023\n",
      "0.015766788122961242\n"
     ]
    }
   ],
   "source": [
    "print((best_pos*Eret).sum())\n",
    "print((last_pos*Eret).sum())"
   ]
  },
  {
   "cell_type": "code",
   "execution_count": 1305,
   "metadata": {},
   "outputs": [
    {
     "name": "stdout",
     "output_type": "stream",
     "text": [
      "0.0063119376393271686\n",
      "0.006620441168746724\n"
     ]
    }
   ],
   "source": [
    "print(best_pos@covariance@np.transpose(best_pos))\n",
    "print(last_pos@covariance@np.transpose(last_pos))"
   ]
  },
  {
   "cell_type": "code",
   "execution_count": 1306,
   "metadata": {},
   "outputs": [
    {
     "name": "stdout",
     "output_type": "stream",
     "text": [
      "1.0\n",
      "0.9999999999999998\n"
     ]
    }
   ],
   "source": [
    "print(best_pos.sum())\n",
    "print(last_pos.sum())"
   ]
  },
  {
   "cell_type": "code",
   "execution_count": 1353,
   "metadata": {},
   "outputs": [
    {
     "data": {
      "image/png": "[encoded data removed]",
      "text/plain": [
       "<Figure size 640x480 with 1 Axes>"
      ]
     },
     "metadata": {},
     "output_type": "display_data"
    }
   ],
   "source": [
    "iteration = 20000\n",
    "arr, best_pos, last_pos = genetic_SA(20, iteration, 50, 0.6, 0.8, 0.5, 1) #n, iterations, TL, replace_rate, crossover_chance, mutation_chance, beta\n",
    "ite = [i+1 for i in range(iteration)]\n",
    "plt.plot(ite, arr)\n",
    "plt.show()"
   ]
  },
  {
   "cell_type": "code",
   "execution_count": 1354,
   "metadata": {},
   "outputs": [
    {
     "name": "stdout",
     "output_type": "stream",
     "text": [
      "[3.23421142e-01 4.88855581e-05 1.22442055e-03 3.24594426e-03\n",
      " 7.55482023e-04 4.99934237e-04 5.97782381e-04 3.18431122e-01\n",
      " 3.50638414e-01 1.13687316e-03]\n",
      "[4.21364397e-01 6.19333725e-05 1.55122489e-03 4.11230398e-03\n",
      " 9.57124177e-04 6.33369333e-04 7.57333664e-04 5.37756713e-01\n",
      " 3.13652896e-02 1.44031062e-03]\n"
     ]
    }
   ],
   "source": [
    "print(best_pos)\n",
    "print(last_pos)"
   ]
  },
  {
   "cell_type": "code",
   "execution_count": 1355,
   "metadata": {},
   "outputs": [
    {
     "name": "stdout",
     "output_type": "stream",
     "text": [
      "0.014591600890106098\n",
      "0.017364148837267626\n"
     ]
    }
   ],
   "source": [
    "print((best_pos*Eret).sum())\n",
    "print((last_pos*Eret).sum())"
   ]
  },
  {
   "cell_type": "code",
   "execution_count": 1356,
   "metadata": {},
   "outputs": [
    {
     "name": "stdout",
     "output_type": "stream",
     "text": [
      "0.004768992019620203\n",
      "0.006860502014629613\n"
     ]
    }
   ],
   "source": [
    "print(best_pos@covariance@np.transpose(best_pos))\n",
    "print(last_pos@covariance@np.transpose(last_pos))"
   ]
  },
  {
   "cell_type": "code",
   "execution_count": 1357,
   "metadata": {},
   "outputs": [
    {
     "name": "stdout",
     "output_type": "stream",
     "text": [
      "1.0\n",
      "1.0\n"
     ]
    }
   ],
   "source": [
    "print(best_pos.sum())\n",
    "print(last_pos.sum())"
   ]
  }
 ],
 "metadata": {
  "kernelspec": {
   "display_name": "Python 3",
   "language": "python",
   "name": "python3"
  },
  "language_info": {
   "codemirror_mode": {
    "name": "ipython",
    "version": 3
   },
   "file_extension": ".py",
   "mimetype": "text/x-python",
   "name": "python",
   "nbconvert_exporter": "python",
   "pygments_lexer": "ipython3",
   "version": "3.8.6"
  },
  "orig_nbformat": 4
 },
 "nbformat": 4,
 "nbformat_minor": 2
}
