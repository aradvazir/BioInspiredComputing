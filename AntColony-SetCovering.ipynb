{
 "cells": [
  {
   "cell_type": "code",
   "execution_count": 2,
   "id": "9b10f6f8",
   "metadata": {},
   "outputs": [],
   "source": [
    "import numpy as  np"
   ]
  },
  {
   "attachments": {},
   "cell_type": "markdown",
   "id": "6ed3ec37",
   "metadata": {},
   "source": [
    "in this part, we get the input from txt files"
   ]
  },
  {
   "cell_type": "code",
   "execution_count": 3,
   "id": "ccb1e90b",
   "metadata": {},
   "outputs": [],
   "source": [
    "# infile = open('scp41.txt', 'r')\n",
    "# infile = open('scp52.txt', 'r')\n",
    "infile = open('scp62.txt', 'r')"
   ]
  },
  {
   "cell_type": "code",
   "execution_count": 4,
   "id": "a1bd4b9d",
   "metadata": {},
   "outputs": [],
   "source": [
    "data = list(map(int,infile.read().split()))"
   ]
  },
  {
   "cell_type": "code",
   "execution_count": 5,
   "id": "880c87a1",
   "metadata": {},
   "outputs": [],
   "source": [
    "n = data[0]\n",
    "m = data[1]\n",
    "\n",
    "cost = np.zeros(m)\n",
    "for i in range(m):\n",
    "    cost[i] = data[2+i]\n",
    "    \n",
    "sc_matrix = np.zeros((n, m), dtype=int)  \n",
    "j = 2+m\n",
    "for i in range(n):\n",
    "    for k in range(data[j]):\n",
    "        sc_matrix[i][data[j+k+1]-1] = 1\n",
    "    j += data[j]+1"
   ]
  },
  {
   "cell_type": "code",
   "execution_count": 6,
   "id": "48754e2f",
   "metadata": {},
   "outputs": [],
   "source": [
    "from numba import njit"
   ]
  },
  {
   "attachments": {},
   "cell_type": "markdown",
   "id": "e7be960a",
   "metadata": {},
   "source": [
    "this is the heuristic function which is based on the brought of choosing a subset has and its cost"
   ]
  },
  {
   "cell_type": "code",
   "execution_count": 7,
   "id": "18725bb3",
   "metadata": {},
   "outputs": [],
   "source": [
    "@njit\n",
    "def heu(s):\n",
    "    h = np.zeros(m)\n",
    "    num = 0\n",
    "    for i in range(n):\n",
    "        is_in = sc_matrix[i]*s\n",
    "        if (np.any(is_in)):\n",
    "            num += 1\n",
    "    for i in range(m):\n",
    "        if (s[i] == 0):\n",
    "            s[i] = 1\n",
    "            new_num = 0\n",
    "            for j in range(n):\n",
    "                is_in = sc_matrix[j]*s\n",
    "                if (np.any(is_in)):\n",
    "                    new_num += 1\n",
    "            h[i] = (new_num - num) / cost[i]\n",
    "            s[i]=0\n",
    "    return h"
   ]
  },
  {
   "attachments": {},
   "cell_type": "markdown",
   "id": "9882faa1",
   "metadata": {},
   "source": [
    "here we have the cost function which is sum of chosen subsets"
   ]
  },
  {
   "cell_type": "code",
   "execution_count": 8,
   "id": "c5b29f00",
   "metadata": {},
   "outputs": [],
   "source": [
    "# @njit\n",
    "def cost_function(s):\n",
    "    c = 0\n",
    "    for i in range(m):\n",
    "        c += cost[i]*s[i]\n",
    "    return c"
   ]
  },
  {
   "attachments": {},
   "cell_type": "markdown",
   "id": "e9b013be",
   "metadata": {},
   "source": [
    "this function returns the probability of choosing a subset which is based on pheromon and heuristic"
   ]
  },
  {
   "cell_type": "code",
   "execution_count": 9,
   "id": "9144a092",
   "metadata": {},
   "outputs": [],
   "source": [
    "# @njit\n",
    "def column_choice(s, phero, j, alpha, beta, H):\n",
    "    if (s[j]==1):\n",
    "        return 0\n",
    "    return (phero[j]**alpha)*(H[j]**beta)/(sum((phero**alpha)*(H**beta)))"
   ]
  },
  {
   "attachments": {},
   "cell_type": "markdown",
   "id": "fe56e057",
   "metadata": {},
   "source": [
    "in this two functions, pheromons gets update:\n",
    ">this update happens when an ant find subsets such that their union is U"
   ]
  },
  {
   "cell_type": "code",
   "execution_count": 10,
   "id": "7c58ee54",
   "metadata": {},
   "outputs": [],
   "source": [
    "# @njit\n",
    "def pher_update(phero, s):\n",
    "    for i in range(m):\n",
    "        if (s[i]==1):\n",
    "            phero[i] += 10/(cost_function(s)*6)"
   ]
  },
  {
   "attachments": {},
   "cell_type": "markdown",
   "id": "c0b0f93a",
   "metadata": {},
   "source": [
    ">in this function, some of the pheromons get disappear"
   ]
  },
  {
   "cell_type": "code",
   "execution_count": 11,
   "id": "e28729e4",
   "metadata": {},
   "outputs": [],
   "source": [
    "# @njit\n",
    "def pher_gen_update(phero):\n",
    "    return phero*0.7"
   ]
  },
  {
   "attachments": {},
   "cell_type": "markdown",
   "id": "f851e284",
   "metadata": {},
   "source": [
    "in this function we check if an ant has found subsets which their union is equal to U"
   ]
  },
  {
   "cell_type": "code",
   "execution_count": 12,
   "id": "b5f42700",
   "metadata": {},
   "outputs": [],
   "source": [
    "@njit\n",
    "def true_condition(s):\n",
    "    for i in range(n):\n",
    "        is_in = sc_matrix[i]*s\n",
    "        c = np.any(is_in)\n",
    "        if (not c):\n",
    "            return False\n",
    "    return True"
   ]
  },
  {
   "attachments": {},
   "cell_type": "markdown",
   "id": "678fad73",
   "metadata": {},
   "source": [
    "this is the main algorithm:\n",
    ">part A:\n",
    "in this part, we run the ant colony algorithm for gen_num times\n",
    "\n",
    ">part B:\n",
    "we do the same thing till all the ants have found the requierments\n",
    "\n",
    ">part C:\n",
    "in this part we calculate the probability of choosing a subsets for all of them\n",
    "\n",
    ">part D:\n",
    "then we choose a subsets by the random number from random place\n",
    "\n",
    ">part E:\n",
    "we check for a phermon update if an ant has found ideal subsets\n",
    "\n",
    ">part F:\n",
    "at the end of generation, some of the phermons get disappeared\n",
    "\n",
    ">part G:\n",
    "then we find the best ant in each generation"
   ]
  },
  {
   "cell_type": "code",
   "execution_count": 13,
   "id": "88a37bf7",
   "metadata": {},
   "outputs": [],
   "source": [
    "def algorithm(a, b, ant_num, gen_num):\n",
    "    alpha = a\n",
    "    beta = b\n",
    "    \n",
    "    phero = np.zeros(m)\n",
    "    for i in range(m):\n",
    "        phero[i] = 0.2\n",
    "        \n",
    "    S = np.zeros((ant_num, m), dtype = int)\n",
    "    \n",
    "    best_gen = []\n",
    "    best = [1 for i in range(m)]\n",
    "    for i in range(gen_num): #part A\n",
    "        S = np.zeros((ant_num, m), dtype = int)\n",
    "        done = np.zeros((ant_num), dtype = int)\n",
    "        \n",
    "        while(done.sum() != ant_num): #part B\n",
    "            for j in range(ant_num): \n",
    "                if (done[j] == 1):\n",
    "                    continue\n",
    "                else:\n",
    "                    p_columns = np.zeros(m)\n",
    "                    H = heu(S[j])\n",
    "            \n",
    "                    for k in range(m): #part C\n",
    "                        p_columns[k] = column_choice(S[j], phero, k, alpha, beta, H)\n",
    "\n",
    "                    rnd_num = np.random.rand(1)\n",
    "                    b = np.random.randint(m)\n",
    "                    su = 0.0\n",
    "                    s = -1\n",
    " \n",
    "                    while(su < rnd_num): #part D\n",
    "                        s += 1\n",
    "                        if (s >= m):\n",
    "                            s -= 1\n",
    "                            break\n",
    "                        su += p_columns[(s+b)%m]\n",
    "                    S[j][(s+b)%m] = 1\n",
    "    \n",
    "                    if (true_condition(S[j])): #part E\n",
    "                        pher_update(phero, S[j])\n",
    "                        done[j] = 1\n",
    "        phero = pher_gen_update(phero) #part F\n",
    "\n",
    "        minimum = np.inf\n",
    "        till_best = []\n",
    "        for f in range(ant_num): #part G\n",
    "            cost = cost_function(S[f])\n",
    "            if (cost < minimum):\n",
    "                minimum = cost\n",
    "                till_best = S[f]\n",
    "        best_gen.append(minimum)\n",
    "        if (cost_function(till_best) < cost_function(best)):\n",
    "            best = till_best\n",
    "    return best_gen, best"
   ]
  },
  {
   "cell_type": "code",
   "execution_count": 14,
   "id": "27368c83",
   "metadata": {},
   "outputs": [],
   "source": [
    "import matplotlib.pyplot as plt"
   ]
  },
  {
   "cell_type": "code",
   "execution_count": 273,
   "id": "91ba6aef",
   "metadata": {},
   "outputs": [],
   "source": [
    "arr, best = algorithm(1, 5, 5, 3) #data = scp41"
   ]
  },
  {
   "cell_type": "code",
   "execution_count": 278,
   "id": "0c4e5dd7",
   "metadata": {},
   "outputs": [
    {
     "data": {
      "image/png": "[encoded data removed]",
      "text/plain": [
       "<Figure size 640x480 with 1 Axes>"
      ]
     },
     "metadata": {},
     "output_type": "display_data"
    },
    {
     "name": "stdout",
     "output_type": "stream",
     "text": [
      "477.0\n",
      "[1, 2, 3, 4, 5, 6, 7, 8, 9, 10, 11, 12, 13, 14, 15, 16, 18, 19, 20, 21, 22, 23, 25, 26, 27, 28, 29, 32, 33, 34, 35, 36, 39, 43, 44, 46, 47, 48, 49, 50, 52, 54, 57, 58, 59, 60, 61, 62, 63, 66, 68, 69, 71, 73, 75, 77, 78, 81, 85, 86, 89, 90, 91, 99, 103, 106, 116, 120, 121, 123, 124, 129, 138, 144, 145, 146, 193, 194, 275, 340]\n"
     ]
    }
   ],
   "source": [
    "plt.plot([1, 2, 3], arr)\n",
    "plt.show()\n",
    "res = []\n",
    "for i in range(m):\n",
    "    if (best[i]==1):\n",
    "        res.append(i+1)\n",
    "print(cost_function(best))\n",
    "print(res)"
   ]
  },
  {
   "cell_type": "code",
   "execution_count": 296,
   "id": "cc018d66",
   "metadata": {},
   "outputs": [],
   "source": [
    "arr, best = algorithm(1, 5, 5, 3) #data = scp52"
   ]
  },
  {
   "cell_type": "code",
   "execution_count": 297,
   "id": "c81c646e",
   "metadata": {},
   "outputs": [
    {
     "data": {
      "image/png": "[encoded data removed]",
      "text/plain": [
       "<Figure size 640x480 with 1 Axes>"
      ]
     },
     "metadata": {},
     "output_type": "display_data"
    },
    {
     "name": "stdout",
     "output_type": "stream",
     "text": [
      "354.0\n",
      "[1, 2, 3, 4, 5, 6, 7, 8, 9, 10, 11, 12, 14, 15, 16, 17, 18, 20, 21, 22, 23, 24, 26, 27, 28, 30, 31, 32, 34, 35, 36, 38, 39, 41, 45, 46, 50, 52, 53, 55, 56, 59, 62, 71, 73, 74, 75, 80, 85, 91, 92, 93, 102, 104, 107, 109, 113, 116, 119, 121, 130, 138, 140, 143, 144, 148, 157, 159, 163, 181, 195, 216, 257, 261, 263, 269]\n"
     ]
    }
   ],
   "source": [
    "plt.plot([1, 2, 3], arr)\n",
    "plt.show()\n",
    "res = []\n",
    "for i in range(m):\n",
    "    if (best[i]==1):\n",
    "        res.append(i+1)\n",
    "print(cost_function(best))\n",
    "print(res)"
   ]
  },
  {
   "cell_type": "code",
   "execution_count": 15,
   "id": "61b9a5f3",
   "metadata": {},
   "outputs": [],
   "source": [
    "arr, best = algorithm(1, 5, 10, 5) #data = scp62"
   ]
  },
  {
   "cell_type": "code",
   "execution_count": 16,
   "id": "375f4ea5",
   "metadata": {},
   "outputs": [
    {
     "data": {
      "image/png": "[encoded data removed]",
      "text/plain": [
       "<Figure size 640x480 with 1 Axes>"
      ]
     },
     "metadata": {},
     "output_type": "display_data"
    },
    {
     "name": "stdout",
     "output_type": "stream",
     "text": [
      "161.0\n",
      "[1, 2, 3, 4, 5, 6, 7, 8, 9, 10, 11, 12, 13, 14, 15, 17, 18, 19, 20, 21, 22, 23, 24, 25, 26, 27, 29, 30, 36, 44, 47, 52, 54, 60, 62, 64, 66, 71, 78, 83, 84, 87, 89]\n"
     ]
    }
   ],
   "source": [
    "plt.plot([1, 2, 3, 4, 5], arr)\n",
    "plt.show()\n",
    "res = []\n",
    "for i in range(m):\n",
    "    if (best[i]==1):\n",
    "        res.append(i+1)\n",
    "print(cost_function(best))\n",
    "print(res)"
   ]
  },
  {
   "attachments": {},
   "cell_type": "markdown",
   "id": "f7cf5b40",
   "metadata": {},
   "source": [
    "The algorithm was good for all the test cases"
   ]
  }
 ],
 "metadata": {
  "kernelspec": {
   "display_name": "Python 3 (ipykernel)",
   "language": "python",
   "name": "python3"
  },
  "language_info": {
   "codemirror_mode": {
    "name": "ipython",
    "version": 3
   },
   "file_extension": ".py",
   "mimetype": "text/x-python",
   "name": "python",
   "nbconvert_exporter": "python",
   "pygments_lexer": "ipython3",
   "version": "3.10.5"
  }
 },
 "nbformat": 4,
 "nbformat_minor": 5
}
