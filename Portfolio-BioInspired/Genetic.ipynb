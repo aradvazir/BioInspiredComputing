{
 "cells": [
  {
   "cell_type": "markdown",
   "id": "1533280f",
   "metadata": {},
   "source": [
    "# Genetic algorithm\n",
    "\n",
    "اینجا کتابخانه های موردنظر و هایپرپارامتر ها رو تعریف می کنیم\n",
    "\n",
    "n= طول جایگشت\n",
    "\n",
    "first_population=تعداد اولیه جمعیت\n",
    "\n",
    "pm=احتمال جهش\n",
    "\n",
    "pc=احتمال بازترکیب\n",
    "\n",
    "p_rep=درصد اینکه چقدر از فرزندان تولید شده جایگزین والد ها شوند\n",
    "\n",
    "و میانگین و کوواریانس رو تعریف میکنیم"
   ]
  },
  {
   "cell_type": "code",
   "execution_count": 1,
   "id": "d4716f96",
   "metadata": {},
   "outputs": [],
   "source": [
    "import random\n",
    "import matplotlib.pyplot as plt\n",
    "import numpy as np\n",
    "import pandas as pd\n",
    "import time\n",
    "n=10\n",
    "first_population=300\n",
    "tournament=3\n",
    "pm=50\n",
    "pc=90\n",
    "p_rep=0.1\n",
    "beta=100\n",
    "choose_per=10\n",
    "mean =list(pd.read_csv(\"expected_return.csv\").values)\n",
    "cov = list(pd.read_csv(\"covariance_matrix.csv\").values)"
   ]
  },
  {
   "cell_type": "markdown",
   "id": "ae06bd17",
   "metadata": {},
   "source": [
    "در این تابع ما تعداد جمعیت اولیه و اندازه هر جایگشت را به تابع میدهیم و تابع به اندازه تعداد جمعیت اولیه مقدار اولیه رندوم تولید میکنیم و در یک لیست ذخیره می کنیم"
   ]
  },
  {
   "cell_type": "code",
   "execution_count": 2,
   "id": "a05e2cd2",
   "metadata": {},
   "outputs": [],
   "source": [
    "def generate_first_population(n,first_num):\n",
    "    first_population=[]\n",
    "    for i in range(first_num):\n",
    "        permutation=np.random.randint(100,size=n)\n",
    "        permutation=permutation/ sum(permutation)\n",
    "        first_population.append(list(permutation))\n",
    "    return first_population"
   ]
  },
  {
   "cell_type": "markdown",
   "id": "1813410c",
   "metadata": {},
   "source": [
    "در این تابع ما برازش را برای یک جایگشت یا کروموزوم محاسبه میکنیم. از فرمول\n",
    "x.T C x - B mean.T x\n",
    "محاسبه میکنیم که بتا را با توجه به اهمیت سود تعیین میکنیم که هرچه این تابع کمتر باشه بهتره"
   ]
  },
  {
   "cell_type": "code",
   "execution_count": 3,
   "id": "7712172e",
   "metadata": {},
   "outputs": [],
   "source": [
    "def fitness_of_chromosome(n,chromosome,mean,cov,beta):\n",
    "    mean=[mean]\n",
    "    mean=np.array(mean)\n",
    "    chromosome_t=[chromosome]\n",
    "    c_t=np.array(chromosome_t)\n",
    "    c=c_t.transpose()\n",
    "    tmp=np.matmul(cov,c)\n",
    "    fit=np.matmul(c_t,tmp)\n",
    "    fit=fit-(beta*np.matmul(mean,c))\n",
    "    return float(fit)"
   ]
  },
  {
   "cell_type": "markdown",
   "id": "13c096ca",
   "metadata": {},
   "source": [
    "این تابع کل جایگشت ها را میگیرد و برازش تک تک جایگشت ها را محاسبه میکند و در یک لیست ذخیره میکند"
   ]
  },
  {
   "cell_type": "code",
   "execution_count": 4,
   "id": "44cc77b7",
   "metadata": {},
   "outputs": [],
   "source": [
    "def fitness_of_all(n,permutation,first_population,mean,cov,beta):\n",
    "    fitness=[0 for i in range(first_population)]\n",
    "    for i in range(first_population):\n",
    "        fitness[i]=fitness_of_chromosome(n,permutation[i],mean,cov,beta)\n",
    "    return fitness"
   ]
  },
  {
   "cell_type": "markdown",
   "id": "caa35661",
   "metadata": {},
   "source": [
    "با استفاده از انتخاب مسابقه ای که پویش و انتفاع مناسبی دارد 3 تا جایگشت را به صورت رندوم انتخاب میکنیم و اون جایگشتی که دارای بهترین برازش است به عنوان والد برمیگردانیم\n",
    "\n",
    "معمولا دو والد میخواهیم پس این تابع را دوبار صدا میزنیم"
   ]
  },
  {
   "cell_type": "code",
   "execution_count": 5,
   "id": "cda5f011",
   "metadata": {},
   "outputs": [],
   "source": [
    "def tournament_select(fitness,first_population,tournament):\n",
    "    candidate=[0 for i in range(tournament)]\n",
    "    for i in range(tournament):\n",
    "        candidate[i]=random.randint(0,first_population-1)\n",
    "    best=candidate[0]\n",
    "    for i in range(1,tournament):\n",
    "        if(fitness[candidate[i]]<fitness[best]):\n",
    "            best=candidate[i]\n",
    "    return best"
   ]
  },
  {
   "cell_type": "markdown",
   "id": "8b4579a7",
   "metadata": {},
   "source": [
    "در این تابع برای بازترکیب از روش بازترکیب ترتیبی استفاده میکنیم"
   ]
  },
  {
   "cell_type": "code",
   "execution_count": 6,
   "id": "7eca7921",
   "metadata": {},
   "outputs": [],
   "source": [
    "def order_recombination(chrom1,chrom2,n):\n",
    "    child1=[0 for i in range(n)]\n",
    "    first_index=0\n",
    "    second_index=0\n",
    "    while(second_index-first_index<=4):\n",
    "        first_index=random.randint(0,n-1)\n",
    "        second_index=random.randint(0,n-1) \n",
    "    for i in range(first_index,second_index):\n",
    "        child1[i]=chrom1[i]\n",
    "    x=second_index\n",
    "    while(x%n!=first_index):\n",
    "        child1[x%n]=chrom2[x%n]\n",
    "        x+=1\n",
    "    tmp=sum(child1)\n",
    "    if(tmp!=1):\n",
    "        child1=child1/(tmp)\n",
    "    return list(child1)"
   ]
  },
  {
   "cell_type": "markdown",
   "id": "7e49b525",
   "metadata": {},
   "source": [
    "چون جایگشت ها وزیر هستند و یک به یک تداخل دارند روش جهش جابه جایی روش مناسبی هست و در تولید جایگشت های متنوع و بهتر کمک میکند و جایگشت را نیز خیلی تغییر نمیدهد"
   ]
  },
  {
   "cell_type": "code",
   "execution_count": 7,
   "id": "b34439ae",
   "metadata": {},
   "outputs": [],
   "source": [
    "def swap_mutation(orders,n,choose_per):\n",
    "    chance=random.randint(0,100)\n",
    "    new_orders = orders.copy()\n",
    "    if(chance<choose_per):\n",
    "        i=random.randint(0, len(orders) - 1)\n",
    "        j=random.randint(0, len(orders) - 1)\n",
    "        while(i==j):\n",
    "            i = random.randint(0, len(orders) - 1)\n",
    "            j = random.randint(0, len(orders) - 1)\n",
    "\n",
    "        temp = new_orders[i]\n",
    "        new_orders[i] = new_orders[j]\n",
    "        new_orders[j] = temp\n",
    "    else:\n",
    "        count=random.choices([1,2,3,4,5],weights=[15,30,40,20,10],k=1)\n",
    "        for i in range(count[0]):\n",
    "            j=random.randint(0, len(orders) - 1)\n",
    "            new_orders[j]=random.uniform(0.0,1.0)\n",
    "        tmpsum=sum(new_orders)\n",
    "        if(tmpsum!=1):\n",
    "            new_orders=new_orders/tmpsum\n",
    "    return new_orders"
   ]
  },
  {
   "cell_type": "markdown",
   "id": "b139aebb",
   "metadata": {},
   "source": [
    "کوچکترین مقدار برازش را برمیگرداند"
   ]
  },
  {
   "cell_type": "code",
   "execution_count": 8,
   "id": "e7feefd4",
   "metadata": {},
   "outputs": [],
   "source": [
    "def find_best_fitness(fitness,first_population):\n",
    "    index=0\n",
    "    best=fitness[index]\n",
    "    for i in range(first_population):\n",
    "        if(fitness[i]<best):\n",
    "            index=i\n",
    "            best=fitness[index]\n",
    "    return (index,best)"
   ]
  },
  {
   "cell_type": "markdown",
   "id": "966b4962",
   "metadata": {},
   "source": [
    "ما میدانیم که دو لیست جایگشت ها و مقدار برازش متناظر با یکدیگرند پس تابع زیر روی لیست برازش حرکت میکند و براساس مقادیر برازش لیست را مرتب میکند و ما همزمان همان جابه جایی ها را در لیست جایگشت ها اعمال میکنیم"
   ]
  },
  {
   "cell_type": "code",
   "execution_count": 9,
   "id": "5409f2b8",
   "metadata": {},
   "outputs": [],
   "source": [
    "def sort_base_on_fitness(permutation,fitness,first_population):\n",
    "    for i in range(0,first_population-1):\n",
    "        min_in=i\n",
    "        for j in range(i+1,first_population):\n",
    "            if(fitness[j]<fitness[min_in]):\n",
    "                min_in=j\n",
    "        tmp1=fitness[min_in]\n",
    "        fitness[min_in]=fitness[i]\n",
    "        fitness[i]=tmp1\n",
    "        tmp2=permutation[min_in].copy()\n",
    "        permutation[min_in]=permutation[i].copy()\n",
    "        permutation[i]=tmp2.copy()\n",
    "    return (permutation,fitness)"
   ]
  },
  {
   "cell_type": "markdown",
   "id": "ede68a10",
   "metadata": {},
   "source": [
    "این بدنه اصلی برنامه است ابتدا جمعیت اولیه را میسازیم و لیست برازش آن را محاسبه میکنیم و بهترین جایگشت با کمترین برازش را انتخاب میکنیم\n",
    "\n",
    "حال وارد حلقه میشویم:\n",
    "\n",
    "در یک فور ابتدا دو والد را با انتخاب مسابقه ای انتخاب میکنیم بعد یک عدد رندوم تولید میکنیم برای اینکه اگه از 90 کمتر بود دو تا بچه تولید میکنیم و باز همینکار را برای دو فرزند ولی اینبار به قصد جهش انجام میدهیم\n",
    "\n",
    "حال اگر بالای 90 بود حهش را روی دو والد انجام میدهیم و به لیست بجه ها اضافشون میکنیم\n",
    "\n",
    "حال برازش را برای کودکان محاسبه میکنیم\n",
    "\n",
    "حال جمعیت اولیه و لیست کودکان را بر اساس برازش مرتب میکنیم\n",
    "\n",
    "حال 90 درصد جمعیت جدید را از لیست جمعیت اولیه (والدها) انتخاب میکنیم و بقیه آن را از لیست کودکان\n",
    "\n",
    "حال بهترین جایگشت با کمترین برازش را انتخاب میکنیم و اگر با بهترین سابق یکی بود کاندیشن را یکی زیاد میکنیم بدین معنی که الگوریتم ما بهترین مقدار جدیدی را تولید نکرده و اگر 250 بار تولید نکند خارج میشویم\n",
    "\n",
    "و همین روند را تکرار میکنیم\n",
    "\n",
    "بقیه هایپر پارامتر ها را به صورت تجربی باید بیابیم"
   ]
  },
  {
   "cell_type": "code",
   "execution_count": 10,
   "id": "3a0641db",
   "metadata": {},
   "outputs": [
    {
     "name": "stdout",
     "output_type": "stream",
     "text": [
      "-1.9107315435840947\n",
      "best fitness:  -1.910731543584094  \n",
      "best index:  0 \n",
      "array:  [0.00016796128205908646, 0.0001563745378483172, 4.1902832024785074e-05, 8.011001499521903e-05, 3.505496215758697e-05, 5.550353331790287e-05, 0.00015637453784831718, 0.9991347540048677, 0.00013006374611960274, 4.190054876150491e-05]\n",
      "\n",
      "\n",
      " (0, -1.910731543584094)\n",
      "Time:  0  hours  1  minutes  32.226157903671265 seconds\n"
     ]
    }
   ],
   "source": [
    "start=time.time()\n",
    "\n",
    "#in this part we made the initial permutations\n",
    "finall_permutation = generate_first_population(n,first_population)\n",
    "finall_fitness=fitness_of_all(n,finall_permutation,first_population,mean,cov,beta)\n",
    "best_index,best_fitness=find_best_fitness(finall_fitness,first_population)\n",
    "all_of_resaults=[]\n",
    "\n",
    "condition=0\n",
    "\n",
    "#in this while we reapeat making children and And we take 90% of the population\n",
    "#from the best parents and the rest from the children in each iteration\n",
    "while(True):\n",
    "    child_permutation=[0 for i in range(first_population)]\n",
    "    x=0\n",
    "    for i in range(first_population//2):\n",
    "        parent1=tournament_select(finall_fitness,first_population,tournament)\n",
    "        parent2=tournament_select(finall_fitness,first_population,tournament)\n",
    "        \n",
    "        percentage=random.randint(0,100)\n",
    "        if(percentage<pc):\n",
    "            \n",
    "            child_permutation[x]=order_recombination(finall_permutation[parent1],finall_permutation[parent2],n)\n",
    "            child_permutation[x+1]=order_recombination(finall_permutation[parent2],finall_permutation[parent1],n)\n",
    "            \n",
    "            percentage2=random.randint(0,100)\n",
    "            if(percentage<pm):\n",
    "                \n",
    "                child_permutation[x]=swap_mutation(child_permutation[x],n,choose_per)\n",
    "                child_permutation[x+1]=swap_mutation(child_permutation[x+1],n,choose_per)\n",
    "                \n",
    "            x+=2\n",
    "        else:\n",
    "            child_permutation[x]=swap_mutation(finall_permutation[parent1],n,choose_per)\n",
    "            child_permutation[x+1]=swap_mutation(finall_permutation[parent2],n,choose_per)\n",
    "            x+=2\n",
    "    child_fitness=fitness_of_all(n,child_permutation,first_population,mean,cov,beta)\n",
    "    \n",
    "    \n",
    "    finall_permutation,finall_fitness=sort_base_on_fitness(finall_permutation,finall_fitness,first_population)\n",
    "    \n",
    "    child_permutation,child_fitness=sort_base_on_fitness(child_permutation,child_fitness,first_population)\n",
    "    \n",
    "    parentcount=(int)(first_population*p_rep)\n",
    "    \n",
    "    j=0\n",
    "    #here we concatinate the parents and childrens and make the population\n",
    "    for i in range(parentcount,first_population):\n",
    "        finall_permutation[i]=child_permutation[j]\n",
    "        finall_fitness[i]=child_fitness[j]\n",
    "    \n",
    "    finall_permutation,finall_fitness=sort_base_on_fitness(finall_permutation,finall_fitness,first_population)\n",
    "    tmp_index,tmp_fitness=find_best_fitness(finall_fitness,first_population)\n",
    "    #this if/else is for our algorithm to exit the loop \n",
    "    #if its best answer does not change after,for example, 250 times\n",
    "    if(tmp_fitness==best_fitness):\n",
    "        condition+=1\n",
    "    else:\n",
    "        condition=0\n",
    "    best_fitness=tmp_fitness\n",
    "    best_index=tmp_index\n",
    "    all_of_resaults.append(best_fitness)\n",
    "    #this print is here just to see the process of the algorithm\n",
    "    print(best_fitness,end='\\r')\n",
    "    if(condition>=250):\n",
    "        break\n",
    "print('\\nbest fitness: ',best_fitness,' \\nbest index: ',best_index,'\\narray: ',finall_permutation[best_index])\n",
    "print('\\n\\n', find_best_fitness(finall_fitness,first_population))\n",
    "end=time.time()\n",
    "seconds=end-start\n",
    "hours=(int)(seconds//3600)\n",
    "seconds=seconds-(hours*3600)\n",
    "minutes=(int)(seconds//60)\n",
    "seconds=seconds-(minutes*60)\n",
    "print('Time: ', hours,' hours ',minutes,' minutes ',seconds,'seconds')"
   ]
  },
  {
   "cell_type": "code",
   "execution_count": 11,
   "id": "6c892dad",
   "metadata": {},
   "outputs": [
    {
     "data": {
      "image/png": "[encoded data removed]",
      "text/plain": [
       "<Figure size 432x288 with 1 Axes>"
      ]
     },
     "metadata": {
      "needs_background": "light"
     },
     "output_type": "display_data"
    }
   ],
   "source": [
    "arr=all_of_resaults\n",
    "ite = [i+1 for i in range(len(arr))]\n",
    "plt.plot(ite, arr)\n",
    "plt.ylabel('fitness of each generation') #set the label for y axis\n",
    "plt.xlabel('generation') #set the label for x-axis\n",
    "plt.title(\"Plotting the resaults\") #set the title of the graph\n",
    "plt.show() #display the graph"
   ]
  },
  {
   "cell_type": "code",
   "execution_count": 13,
   "id": "910ba8d1",
   "metadata": {},
   "outputs": [
    {
     "name": "stdout",
     "output_type": "stream",
     "text": [
      "[[0.01015555]]\n",
      "[[[[0.01920887]]]]\n"
     ]
    }
   ],
   "source": [
    "chromosome=finall_permutation[best_index].copy()\n",
    "mean=[mean]\n",
    "mean=np.array(mean)\n",
    "chromosome_t=[chromosome]\n",
    "c_t=np.array(chromosome_t)\n",
    "c=c_t.transpose()\n",
    "tmp=np.matmul(cov,c)\n",
    "fit=np.matmul(c_t,tmp)\n",
    "print(fit)\n",
    "fit=np.matmul(mean,c)\n",
    "print(fit)"
   ]
  },
  {
   "cell_type": "code",
   "execution_count": null,
   "id": "07228070",
   "metadata": {},
   "outputs": [],
   "source": []
  }
 ],
 "metadata": {
  "kernelspec": {
   "display_name": "Python 3 (ipykernel)",
   "language": "python",
   "name": "python3"
  },
  "language_info": {
   "codemirror_mode": {
    "name": "ipython",
    "version": 3
   },
   "file_extension": ".py",
   "mimetype": "text/x-python",
   "name": "python",
   "nbconvert_exporter": "python",
   "pygments_lexer": "ipython3",
   "version": "3.9.7"
  }
 },
 "nbformat": 4,
 "nbformat_minor": 5
}
