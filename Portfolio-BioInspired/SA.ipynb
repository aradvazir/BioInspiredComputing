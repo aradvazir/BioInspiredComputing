{
 "cells": [
  {
   "cell_type": "code",
   "execution_count": 17,
   "metadata": {},
   "outputs": [],
   "source": [
    "import numpy as np\n",
    "import math\n",
    "import matplotlib.pyplot as plt\n",
    "import random\n",
    "import pandas as pd"
   ]
  },
  {
   "cell_type": "markdown",
   "metadata": {},
   "source": [
    "در این تابع ابتدا داده را ورودی میگیریم"
   ]
  },
  {
   "cell_type": "code",
   "execution_count": 18,
   "metadata": {},
   "outputs": [],
   "source": [
    "beta=100\n",
    "mean =list(pd.read_csv(\"expected_return.csv\").values)\n",
    "cov = list(pd.read_csv(\"covariance_matrix.csv\").values)"
   ]
  },
  {
   "cell_type": "markdown",
   "metadata": {},
   "source": [
    "این تابع محاسبه هزینه است کند که باید آن را مینیمم کنیم."
   ]
  },
  {
   "cell_type": "code",
   "execution_count": 19,
   "metadata": {},
   "outputs": [],
   "source": [
    "def calculate_cost(x,cov,mean):\n",
    "    mean=[mean]\n",
    "    mean=np.array(mean)\n",
    "    x_t=[x]\n",
    "    c_t=np.array(x_t)\n",
    "    c=c_t.transpose()\n",
    "    tmp=np.matmul(cov,c)\n",
    "    fit=np.matmul(c_t,tmp)\n",
    "    fit=fit-(beta*np.matmul(mean,c))   \n",
    "    return float(fit)"
   ]
  },
  {
   "cell_type": "markdown",
   "metadata": {},
   "source": [
    "این تابع محاسبه همسایگی است. به این صورت عمل می‌کند که با درصدی که مشخص کردیم توسط یکی از دو روش نقطه جدیدی تولید میکند، اگر هزینه کم‌تر شد، آن را جابه‌جا می‌کند. اگر هم بهتر نبود، با یک شانس که بسته به دما و اختلاف هزینه‌ها است، تعویض می کند."
   ]
  },
  {
   "cell_type": "code",
   "execution_count": 20,
   "metadata": {},
   "outputs": [],
   "source": [
    "def neighbor(orders, temperature, cov,choose_per,mean):\n",
    "    chance=random.randint(0,100)\n",
    "    if(chance<choose_per):\n",
    "        new_orders = orders.copy()\n",
    "        i=random.randint(0, len(orders) - 1)\n",
    "        j=random.randint(0, len(orders) - 1)\n",
    "        while(i==j):\n",
    "            i = random.randint(0, len(orders) - 1)\n",
    "            j = random.randint(0, len(orders) - 1)\n",
    "\n",
    "        temp = new_orders[i]\n",
    "        new_orders[i] = new_orders[j]\n",
    "        new_orders[j] = temp\n",
    "    else:\n",
    "        new_orders = orders.copy()\n",
    "        count=random.choices([1,2,3,4,5,6,7,8],weights=[15,40,50,50,30,15,10,5],k=1)\n",
    "        for i in range(count[0]):\n",
    "            j=random.randint(0, len(orders) - 1)\n",
    "            new_orders[j]=random.uniform(0.0,1.0)\n",
    "        tmpsum=sum(new_orders)\n",
    "        if(tmpsum!=1):\n",
    "            new_orders=new_orders/tmpsum\n",
    "        \n",
    "    \n",
    "    cost = calculate_cost(orders,cov,mean)\n",
    "    new_cost = calculate_cost(new_orders, cov,mean)\n",
    "    \n",
    "    if (new_cost < cost):\n",
    "        orders = new_orders.copy()\n",
    "        return orders\n",
    "        \n",
    "    rand = random.random()\n",
    "    if (rand < math.exp((cost - new_cost)/temperature)):\n",
    "        orders = new_orders.copy()\n",
    "    \n",
    "    return orders"
   ]
  },
  {
   "cell_type": "code",
   "execution_count": 21,
   "metadata": {},
   "outputs": [],
   "source": [
    "def generate_first_permutaion(n):\n",
    "    permutation=np.random.randint(100,size=n)\n",
    "    permutation=permutation/ sum(permutation)\n",
    "    return permutation"
   ]
  },
  {
   "cell_type": "markdown",
   "metadata": {},
   "source": [
    "این تابع اصلی است. به این صورت عمل کرده که ابتدا یک جایگشت می‌سازیم. سپس همسایه را محاسبه می‌کنیم و سپس بهترین را به‌روز می‌کنیم و بعد دما را کم می‌کنیم."
   ]
  },
  {
   "cell_type": "code",
   "execution_count": 22,
   "metadata": {},
   "outputs": [],
   "source": [
    "def simulated_annealing(temperature, alpha, TL, i,n,cov,choose_per):\n",
    "    all_of_results=[]\n",
    "    requests =generate_first_permutaion(n)\n",
    "\n",
    "    best_order = []\n",
    "    least_cost = np.Inf\n",
    "    costs = []\n",
    "    best_costs = []\n",
    "    while(temperature > 0.1):\n",
    "        for i in range(TL):\n",
    "            requests = neighbor(requests, temperature, cov , choose_per,mean)\n",
    "            \n",
    "            if (calculate_cost(requests, cov,mean) < least_cost):\n",
    "                best_order = requests\n",
    "                least_cost = calculate_cost(requests, cov,mean)\n",
    "            all_of_results.append(least_cost)\n",
    "                \n",
    "            costs.append(calculate_cost(requests, cov,mean))\n",
    "            best_costs.append(least_cost)\n",
    "        temperature *= alpha\n",
    "        \n",
    "    return best_order, least_cost, costs, best_costs,all_of_results"
   ]
  },
  {
   "cell_type": "code",
   "execution_count": 23,
   "metadata": {},
   "outputs": [
    {
     "name": "stdout",
     "output_type": "stream",
     "text": [
      "[1.21486430e-01 5.91166323e-02 4.19876447e-05 1.16451416e-02\n",
      " 1.35583271e-05 9.29356495e-03 1.99183270e-04 7.87767659e-01\n",
      " 9.92507432e-03 5.10768002e-04]\n",
      "-1.7890121046495755\n"
     ]
    }
   ],
   "source": [
    "random.seed(100)\n",
    "order, least, costs, best_costs,all_of_resaults = simulated_annealing(1, 0.99, 10000, 1,10,cov,10) #input = input1.stock\n",
    "print(order)\n",
    "print(least)"
   ]
  },
  {
   "cell_type": "code",
   "execution_count": 24,
   "metadata": {},
   "outputs": [
    {
     "data": {
      "image/png": "[encoded data removed]",
      "text/plain": [
       "<Figure size 432x288 with 1 Axes>"
      ]
     },
     "metadata": {
      "needs_background": "light"
     },
     "output_type": "display_data"
    }
   ],
   "source": [
    "arr=all_of_resaults\n",
    "ite = [i+1 for i in range(len(arr))]\n",
    "plt.plot(ite, arr)\n",
    "plt.ylabel('fitness of each generation') #set the label for y axis\n",
    "plt.xlabel('generation') #set the label for x-axis\n",
    "plt.title(\"Plotting the resaults\") #set the title of the graph\n",
    "plt.show() #display the graph"
   ]
  }
 ],
 "metadata": {
  "kernelspec": {
   "display_name": "Python 3 (ipykernel)",
   "language": "python",
   "name": "python3"
  },
  "language_info": {
   "codemirror_mode": {
    "name": "ipython",
    "version": 3
   },
   "file_extension": ".py",
   "mimetype": "text/x-python",
   "name": "python",
   "nbconvert_exporter": "python",
   "pygments_lexer": "ipython3",
   "version": "3.9.7"
  }
 },
 "nbformat": 4,
 "nbformat_minor": 2
}
