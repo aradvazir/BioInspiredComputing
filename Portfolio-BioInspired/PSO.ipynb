{
 "cells": [
  {
   "cell_type": "code",
   "execution_count": 23,
   "metadata": {},
   "outputs": [],
   "source": [
    "import numpy as np\n",
    "import pandas as pd\n",
    "import matplotlib.pyplot as plt"
   ]
  },
  {
   "cell_type": "markdown",
   "metadata": {},
   "source": [
    "First of all, we get the data from csv file. (expected return and covariance matrix)"
   ]
  },
  {
   "cell_type": "code",
   "execution_count": 24,
   "metadata": {},
   "outputs": [],
   "source": [
    "Eret = pd.read_csv(\"expected_return.csv\").values\n",
    "covariance = pd.read_csv(\"covariance_matrix.csv\").values"
   ]
  },
  {
   "cell_type": "markdown",
   "metadata": {},
   "source": [
    "This is the class of each particle which has it's position, best position and also velocity which is randomly difined at first."
   ]
  },
  {
   "cell_type": "code",
   "execution_count": 25,
   "metadata": {},
   "outputs": [],
   "source": [
    "class particle:\n",
    "    def __init__(self, arr, vel):\n",
    "        self.pos = np.array(arr)\n",
    "        self.best_pos = self.pos\n",
    "        self.velocity = np.array(vel)"
   ]
  },
  {
   "cell_type": "markdown",
   "metadata": {},
   "source": [
    "This is the check function which map each array to another array which it's some is equal to 1 and all of it's elements are non-negative"
   ]
  },
  {
   "cell_type": "code",
   "execution_count": 26,
   "metadata": {},
   "outputs": [],
   "source": [
    "def check(arr):\n",
    "    arr_sum = sum(arr)\n",
    "    normalized_arr = [max(0, float(element) / arr_sum) for element in arr]\n",
    "    new_sum = sum(normalized_arr)\n",
    "    normalized_arr = [element / new_sum for element in normalized_arr]\n",
    "    \n",
    "    return np.array(normalized_arr)"
   ]
  },
  {
   "cell_type": "markdown",
   "metadata": {},
   "source": [
    "We are looking to minimize the function:\n",
    "\n",
    "$$ x^TCx - \\beta x^T\\mu$$\n",
    "\n",
    "which $x^T$ is x array, C is the covariance matrix and $\\mu$ is the Eret."
   ]
  },
  {
   "cell_type": "code",
   "execution_count": 27,
   "metadata": {},
   "outputs": [],
   "source": [
    "def cost(x, beta):\n",
    "    return x@covariance@np.transpose(x) - beta*(x*Eret).sum()"
   ]
  },
  {
   "cell_type": "markdown",
   "metadata": {},
   "source": [
    "This is the main algorithm\n",
    ">first of all, we create the initial population and check for the right array and calculates their costs.\n",
    "\n",
    ">Then we pick the best particle up.\n",
    "\n",
    ">After that, for iteration times for each particle, we update it's velocity and for sure, the position\n",
    "\n",
    ">And also update the best particle"
   ]
  },
  {
   "cell_type": "markdown",
   "metadata": {},
   "source": [
    "we update the velocity due to global best and personal best and also the velocity itself. Then update the position using the calculated velocity."
   ]
  },
  {
   "cell_type": "code",
   "execution_count": 28,
   "metadata": {},
   "outputs": [],
   "source": [
    "def PSO(n, iterations, c_1, c_2, w, beta):\n",
    "    np.random.seed(100)\n",
    "    \n",
    "    particles = [particle([np.random.uniform(0, 0.1) for i in range(10)], [np.random.uniform(-0.5, 0.5) for i in range(10)]) for i in range(n)] #part A\n",
    "    \n",
    "    for i in range(n):\n",
    "        particles[i].pos = check(particles[i].pos)\n",
    "    \n",
    "    costs = [cost(particles[i].pos, beta) for i in range(n)]\n",
    "    \n",
    "    minimum = 1000\n",
    "    min_i = 0\n",
    "    for i in range(n):\n",
    "        if (minimum > costs[i]):\n",
    "            minimum = costs[i]\n",
    "            min_i = i\n",
    "            \n",
    "    best_global_index = min_i\n",
    "    best_fitness = minimum\n",
    "    best_final = particles[best_global_index].pos\n",
    "    \n",
    "    best = []\n",
    "    \n",
    "    for it in range(iterations):\n",
    "        for i in range(n):\n",
    "            particles[i].velocity = w*particles[i].velocity + c_1*np.random.rand(1)*(particles[best_global_index].best_pos - particles[i].pos) + c_2*np.random.rand(1)*(particles[i].best_pos - particles[i].pos)\n",
    "            \n",
    "            particles[i].pos = particles[i].pos + particles[i].velocity\n",
    "                \n",
    "            particles[i].pos = check(particles[i].pos)\n",
    "            \n",
    "            if (cost(particles[i].pos, beta) < cost(particles[i].best_pos, beta)):\n",
    "                particles[i].best_pos = particles[i].pos\n",
    "                \n",
    "            if (cost(particles[i].pos, beta) < cost(particles[best_global_index].best_pos, beta)):\n",
    "                best_global_index = i\n",
    "            \n",
    "            if (cost(particles[i].pos, beta) < minimum):\n",
    "                best_final = particles[best_global_index].pos\n",
    "                minimum = cost(particles[best_global_index].pos, beta)\n",
    "                \n",
    "        best.append(cost(particles[best_global_index].best_pos, beta))\n",
    "    return best, best_final"
   ]
  },
  {
   "cell_type": "markdown",
   "metadata": {},
   "source": [
    "As we can see, it has a smooth plot. Which tells us that the algorithms is probably working fine."
   ]
  },
  {
   "cell_type": "code",
   "execution_count": 29,
   "metadata": {},
   "outputs": [
    {
     "data": {
      "image/png": "[encoded data removed]",
      "text/plain": [
       "<Figure size 640x480 with 1 Axes>"
      ]
     },
     "metadata": {},
     "output_type": "display_data"
    }
   ],
   "source": [
    "arr, pos = PSO(1000, 100, 0.3, 0.9, 0.5, 100)\n",
    "ite = [i+1 for i in range(100)]\n",
    "plt.plot(ite, arr)\n",
    "plt.show()"
   ]
  },
  {
   "cell_type": "markdown",
   "metadata": {},
   "source": [
    "This array tells us how much to buy from each crypto"
   ]
  },
  {
   "cell_type": "code",
   "execution_count": 30,
   "metadata": {},
   "outputs": [
    {
     "data": {
      "text/plain": [
       "array([0.05137971, 0.        , 0.        , 0.        , 0.        ,\n",
       "       0.        , 0.        , 0.94862029, 0.        , 0.        ])"
      ]
     },
     "execution_count": 30,
     "metadata": {},
     "output_type": "execute_result"
    }
   ],
   "source": [
    "pos"
   ]
  },
  {
   "cell_type": "markdown",
   "metadata": {},
   "source": [
    "This is the return"
   ]
  },
  {
   "cell_type": "code",
   "execution_count": 31,
   "metadata": {},
   "outputs": [
    {
     "data": {
      "text/plain": [
       "0.019048166416869627"
      ]
     },
     "execution_count": 31,
     "metadata": {},
     "output_type": "execute_result"
    }
   ],
   "source": [
    "(pos*Eret).sum()"
   ]
  },
  {
   "cell_type": "markdown",
   "metadata": {},
   "source": [
    "And the risk"
   ]
  },
  {
   "cell_type": "code",
   "execution_count": 32,
   "metadata": {},
   "outputs": [
    {
     "data": {
      "text/plain": [
       "0.009682896059103082"
      ]
     },
     "execution_count": 32,
     "metadata": {},
     "output_type": "execute_result"
    }
   ],
   "source": [
    "pos@covariance@np.transpose(pos)"
   ]
  }
 ],
 "metadata": {
  "kernelspec": {
   "display_name": "Python 3",
   "language": "python",
   "name": "python3"
  },
  "language_info": {
   "codemirror_mode": {
    "name": "ipython",
    "version": 3
   },
   "file_extension": ".py",
   "mimetype": "text/x-python",
   "name": "python",
   "nbconvert_exporter": "python",
   "pygments_lexer": "ipython3",
   "version": "3.8.6"
  },
  "orig_nbformat": 4
 },
 "nbformat": 4,
 "nbformat_minor": 2
}
