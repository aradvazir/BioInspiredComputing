{
 "cells": [
  {
   "cell_type": "code",
   "execution_count": 29,
   "metadata": {},
   "outputs": [],
   "source": [
    "import numpy as np\n",
    "import pandas as pd\n",
    "import matplotlib.pyplot as plt"
   ]
  },
  {
   "cell_type": "markdown",
   "metadata": {},
   "source": [
    "First of all, we get the data from csv file. (expected return and covariance matrix)"
   ]
  },
  {
   "cell_type": "code",
   "execution_count": 30,
   "metadata": {},
   "outputs": [],
   "source": [
    "Eret = pd.read_csv(\"expected_return.csv\").values\n",
    "covariance = pd.read_csv(\"covariance_matrix.csv\").values"
   ]
  },
  {
   "cell_type": "markdown",
   "metadata": {},
   "source": [
    "We are looking to minimize the function:\n",
    "\n",
    "$$ x^TCx - \\beta x^T\\mu$$\n",
    "\n",
    "which $x^T$ is x array, C is the covariance matrix and $\\mu$ is the Eret."
   ]
  },
  {
   "cell_type": "code",
   "execution_count": 31,
   "metadata": {},
   "outputs": [],
   "source": [
    "def cost_func(x, beta):\n",
    "    return x@covariance@np.transpose(x) - beta*(x*Eret).sum()"
   ]
  },
  {
   "cell_type": "markdown",
   "metadata": {},
   "source": [
    "First of all, we get the data from csv file. (expected return and covariance matrix)"
   ]
  },
  {
   "cell_type": "code",
   "execution_count": 32,
   "metadata": {},
   "outputs": [],
   "source": [
    "def check(arr):\n",
    "    normalized_arr = [max(0, float(element)) for element in arr]\n",
    "    new_sum = sum(normalized_arr)\n",
    "    normalized_arr = [element/new_sum for element in normalized_arr]\n",
    "    return np.array(normalized_arr)"
   ]
  },
  {
   "cell_type": "markdown",
   "metadata": {},
   "source": [
    "This is the selection function. We use tournament selection for this algorithm.\n",
    "\n",
    "In tournament selection, we randomly pick 5 array from population and return the one that has the lowest cost."
   ]
  },
  {
   "cell_type": "code",
   "execution_count": 33,
   "metadata": {},
   "outputs": [],
   "source": [
    "def tournament_selection(population, beta):\n",
    "    m = 1000\n",
    "    for i in range(5):\n",
    "        random_index = np.random.randint(len(population))\n",
    "        cost = cost_func(population[random_index], beta)\n",
    "        if (cost < m):\n",
    "            m = cost\n",
    "            arr = population[random_index]\n",
    "    return arr"
   ]
  },
  {
   "cell_type": "markdown",
   "metadata": {},
   "source": [
    "crossover:\n",
    "\n",
    "We use a random alpha and build two children like this:\n",
    "$$ c_1(i) = alpha\\times (p_1(i) + p_2(i))$$\n",
    "$$ c_2(i) = (1-alpha)\\times (p_1(i) + p_2(i)) $$"
   ]
  },
  {
   "cell_type": "code",
   "execution_count": 34,
   "metadata": {},
   "outputs": [],
   "source": [
    "def crossover(x, y):\n",
    "    alpha = np.random.rand(1)\n",
    "    \n",
    "    c1 = np.zeros(10)\n",
    "    c2 = np.zeros(10)\n",
    "    \n",
    "    for i in range(10):\n",
    "        c1[i] = alpha*(x[i] + y[i])\n",
    "        c2[i] = (1-alpha)*(x[i] + y[i])\n",
    "        \n",
    "    return c1, c2"
   ]
  },
  {
   "cell_type": "markdown",
   "metadata": {},
   "source": [
    "In mutation, we pick a random number of indexes from 1 to 8 and then give that index, a random number between 0 and 0.5"
   ]
  },
  {
   "cell_type": "code",
   "execution_count": 35,
   "metadata": {},
   "outputs": [],
   "source": [
    "def mutation(x):\n",
    "    num = np.random.randint(8)\n",
    "    for i in range(num):\n",
    "        random_index = np.random.randint(10)\n",
    "        x[random_index] = np.random.uniform(0, 0.5)\n",
    "    return x"
   ]
  },
  {
   "cell_type": "markdown",
   "metadata": {},
   "source": [
    "In this function, we sort ascending two array based on the first one (x)."
   ]
  },
  {
   "cell_type": "code",
   "execution_count": 36,
   "metadata": {},
   "outputs": [],
   "source": [
    "def double_sort(x, y):\n",
    "    for i in range(len(x)):\n",
    "        for j in range(i, len(x)):\n",
    "            if (x[j] < x[i]):\n",
    "                x[i], x[j] = x[j], x[i]\n",
    "                y[i], y[j] = y[j].copy(), y[i].copy()\n",
    "    return x, y"
   ]
  },
  {
   "cell_type": "markdown",
   "metadata": {},
   "source": [
    "this is the particle class for PSO algorithm"
   ]
  },
  {
   "cell_type": "code",
   "execution_count": 37,
   "metadata": {},
   "outputs": [],
   "source": [
    "class particle:\n",
    "    def __init__(self, arr, vel):\n",
    "        self.pos = np.array(arr)\n",
    "        self.best_pos = self.pos\n",
    "        self.velocity = np.array(vel)"
   ]
  },
  {
   "cell_type": "markdown",
   "metadata": {},
   "source": [
    "PSO algorithm which is exactly the one that we used for PSO alone itself."
   ]
  },
  {
   "cell_type": "code",
   "execution_count": 38,
   "metadata": {},
   "outputs": [],
   "source": [
    "def PSO_on_population(population, iterations, c_1, c_2, w, beta):\n",
    "    np.random.seed(100)\n",
    "    \n",
    "    n = len(population)\n",
    "    particles = [particle(population[i], [np.random.uniform(-0.5, 0.5) for i in range(10)]) for i in range(n)] #part A\n",
    "    costs = [cost_func(particles[i].pos, beta) for i in range(n)]\n",
    "    \n",
    "    for i in range(n):\n",
    "        particles[i].pos = check(particles[i].pos)\n",
    "    \n",
    "    minimum = 1000\n",
    "    min_i = 0\n",
    "    for i in range(n):\n",
    "        if (minimum > costs[i]):\n",
    "            minimum = costs[i]\n",
    "            min_i = i\n",
    "            \n",
    "    best_global_index = min_i\n",
    "    best_fitness = minimum\n",
    "    best_final = particles[best_global_index].pos\n",
    "    \n",
    "    best = []\n",
    "    \n",
    "    for it in range(iterations):\n",
    "        for i in range(n):\n",
    "            particles[i].velocity = w*particles[i].velocity + c_1*np.random.rand(1)*(particles[best_global_index].best_pos - particles[i].pos) + c_2*np.random.rand(1)*(particles[i].best_pos - particles[i].pos)\n",
    "            \n",
    "            particles[i].pos = particles[i].pos + particles[i].velocity\n",
    "                \n",
    "            particles[i].pos = check(particles[i].pos)\n",
    "            \n",
    "            if (cost_func(particles[i].pos, beta) < cost_func(particles[i].best_pos, beta)):\n",
    "                particles[i].best_pos = particles[i].pos\n",
    "                \n",
    "            if (cost_func(particles[i].pos, beta) < cost_func(particles[best_global_index].best_pos, beta)):\n",
    "                best_global_index = i\n",
    "            \n",
    "            if (cost_func(particles[i].pos, beta) < minimum):\n",
    "                best_final = particles[best_global_index].pos\n",
    "                minimum = cost_func(particles[best_global_index].pos, beta)\n",
    "                \n",
    "        best.append(cost_func(particles[best_global_index].best_pos, beta))\n",
    "        \n",
    "    return np.array([particles[i].pos for i in range(n)])"
   ]
  },
  {
   "cell_type": "markdown",
   "metadata": {},
   "source": [
    "This is the main algorithm\n",
    "\n",
    ">first of all, we make the initial population\n",
    "\n",
    ">then for iteration times:\n",
    "\n",
    "first use the PSO algorithm to make the population a bit better.\n",
    "\n",
    "then by choosing the parents and making children, build the new population.\n",
    "children and maid by crossover and mutation on chosen parents.\n",
    "\n",
    ">each time, find the best and store the cost."
   ]
  },
  {
   "cell_type": "code",
   "execution_count": 39,
   "metadata": {},
   "outputs": [],
   "source": [
    "def genetic_PSO(n, iterations, mutation_chance, crossover_chance, replace_rate, PSO_iterations, c_1, c_2, w, beta):\n",
    "    np.random.seed(100)\n",
    "    \n",
    "    population = np.array([[np.random.uniform(0, 1) for i in range(10)] for i in range(n)])\n",
    "    \n",
    "    for i in range(n):\n",
    "        population[i] = check(population[i])\n",
    "            \n",
    "    cost_array = np.array([cost_func(population[i], beta) for i in range(n)])\n",
    "    \n",
    "    min_cost = 1000\n",
    "    for i in range(len(cost_array)):\n",
    "        if (cost_array[i] < min_cost):\n",
    "            min_cost = cost_array[i]\n",
    "            min_array = population[i]\n",
    "    \n",
    "    best_generation = np.array([])\n",
    "            \n",
    "    for i in range(iteration):\n",
    "        child = np.empty((0, 10))\n",
    "        \n",
    "        population = PSO_on_population(population, PSO_iterations, 10*c_1/(i+1), 10*c_2/(i+1), 10*w/(i+1), beta)\n",
    "        cost_array = np.array([cost_func(population[j], beta) for j in range(n)])\n",
    "        \n",
    "        for k in range(n//2):\n",
    "            p1 = tournament_selection(population, beta)\n",
    "            p2 = tournament_selection(population, beta)\n",
    "    \n",
    "            chance = np.random.rand()\n",
    "            if (chance <= crossover_chance):\n",
    "                c1, c2 = crossover(p1, p2)\n",
    "            else:\n",
    "                c1, c2 = p1, p2\n",
    "                \n",
    "            chance = np.random.rand()\n",
    "            if (chance <= mutation_chance): \n",
    "                c1 = mutation(c1)\n",
    "                c2 = mutation(c2)\n",
    "            \n",
    "            child = np.concatenate((child, [check(c1)]))\n",
    "            child = np.concatenate((child, [check(c2)]))\n",
    "            \n",
    "        cost_child = np.array([cost_func(child[j], beta) for j in range(n)])\n",
    "        cost_array, population = double_sort(cost_array, population)\n",
    "        cost_child, child = double_sort(cost_child, child)\n",
    "        \n",
    "        population = np.concatenate((population[:int(replace_rate*n)], child[:int((1-replace_rate)*n)]), axis=0)\n",
    "        cost_array = np.append(cost_array[:int(replace_rate*n)], cost_child[:int((1-replace_rate)*n)])\n",
    "        \n",
    "        best_index = np.where(cost_array == min(cost_array))[0][0]\n",
    "        best = cost_array[best_index]\n",
    "        last_array = population[best_index]\n",
    "        best_generation = np.append(best_generation, best)\n",
    "        \n",
    "        if (best < min_cost):\n",
    "            min_cost = best\n",
    "            min_array = population[best_index]\n",
    "            \n",
    "    return best_generation, min_array, last_array\n",
    "        "
   ]
  },
  {
   "cell_type": "markdown",
   "metadata": {},
   "source": [
    "And Finally a test for our algorithm:"
   ]
  },
  {
   "cell_type": "code",
   "execution_count": 40,
   "metadata": {},
   "outputs": [],
   "source": [
    "iteration = 5000\n",
    "arr, best_pos, last_pos = genetic_PSO(100, iteration, 0.6, 0.95, 0.6, 20, 0.8, 0.3, 0.2, 100) #n, iterations, mutation_chance, replace_rate, PSO_iterations, c_1, c_2, w, beta"
   ]
  },
  {
   "cell_type": "code",
   "execution_count": 46,
   "metadata": {},
   "outputs": [
    {
     "data": {
      "image/png": "[encoded data removed]",
      "text/plain": [
       "<Figure size 640x480 with 1 Axes>"
      ]
     },
     "metadata": {},
     "output_type": "display_data"
    }
   ],
   "source": [
    "ite = [i+1 for i in range(iteration)]\n",
    "plt.plot(ite, arr)\n",
    "plt.show()"
   ]
  },
  {
   "cell_type": "code",
   "execution_count": 42,
   "metadata": {},
   "outputs": [
    {
     "name": "stdout",
     "output_type": "stream",
     "text": [
      "[0. 0. 0. 0. 0. 0. 0. 1. 0. 0.]\n",
      "[2.93655294e-04 1.26553358e-05 5.39843631e-05 0.00000000e+00\n",
      " 7.00495986e-05 0.00000000e+00 0.00000000e+00 9.99528974e-01\n",
      " 3.98133540e-05 8.67880045e-07]\n"
     ]
    }
   ],
   "source": [
    "print(best_pos)\n",
    "print(last_pos)"
   ]
  },
  {
   "cell_type": "code",
   "execution_count": 43,
   "metadata": {},
   "outputs": [
    {
     "name": "stdout",
     "output_type": "stream",
     "text": [
      "0.0192179245283018\n",
      "0.019213552686346842\n"
     ]
    }
   ],
   "source": [
    "print((best_pos*Eret).sum())\n",
    "print((last_pos*Eret).sum())"
   ]
  },
  {
   "cell_type": "code",
   "execution_count": 44,
   "metadata": {},
   "outputs": [
    {
     "name": "stdout",
     "output_type": "stream",
     "text": [
      "0.0101622232692307\n",
      "0.010157841311674558\n"
     ]
    }
   ],
   "source": [
    "print(best_pos@covariance@np.transpose(best_pos))\n",
    "print(last_pos@covariance@np.transpose(last_pos))"
   ]
  },
  {
   "cell_type": "code",
   "execution_count": 45,
   "metadata": {},
   "outputs": [
    {
     "name": "stdout",
     "output_type": "stream",
     "text": [
      "1.0\n",
      "1.0\n"
     ]
    }
   ],
   "source": [
    "print(best_pos.sum())\n",
    "print(last_pos.sum())"
   ]
  }
 ],
 "metadata": {
  "kernelspec": {
   "display_name": "Python 3",
   "language": "python",
   "name": "python3"
  },
  "language_info": {
   "codemirror_mode": {
    "name": "ipython",
    "version": 3
   },
   "file_extension": ".py",
   "mimetype": "text/x-python",
   "name": "python",
   "nbconvert_exporter": "python",
   "pygments_lexer": "ipython3",
   "version": "3.8.6"
  },
  "orig_nbformat": 4
 },
 "nbformat": 4,
 "nbformat_minor": 2
}
