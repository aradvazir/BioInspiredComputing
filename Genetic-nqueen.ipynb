{
 "cells": [
  {
   "cell_type": "markdown",
   "id": "39c4066a",
   "metadata": {},
   "source": [
    "ابتدا در این تابع با ورودی های تعداد وزیر ها و تعداد جمعیت اولیه مورد نظر، به صورت تصادفی جایگشتی از اعداد\n",
    "\n",
    "1 تا n\n",
    "خواهیم داشت."
   ]
  },
  {
   "cell_type": "code",
   "execution_count": 54,
   "id": "9de7bdab",
   "metadata": {},
   "outputs": [],
   "source": [
    "import numpy as np\n",
    "def data_creation(n, population):\n",
    "\n",
    "    data = np.zeros((population, n), dtype='int')\n",
    "\n",
    "    for i in range(population):\n",
    "        data[i] = np.random.permutation(n)+1\n",
    "    return data"
   ]
  },
  {
   "cell_type": "markdown",
   "id": "48cb8fc7",
   "metadata": {},
   "source": [
    "این تابع، تابع ارزش ما است.\n",
    "چون کوروموزوم ما به صورت جایگشتی از ستون هر وزیر است، حالتی که ستون یا سطر تکراری داشته باشیم، وجود ندارد. بنابراین تنها کافیست حالت قطری را در نظر بگیریم.\n",
    "به این صورت که اگر دو وزیر اختلاف سطر و ستون یکسانی داشته باشند، یعنی در یک قطر هستند و در این صورت یکی به مقدار ارزش آن اضافه  می کنیم.\n",
    "هدف پیدا کردن کمترین مقدار ارزش است."
   ]
  },
  {
   "cell_type": "code",
   "execution_count": 55,
   "id": "f8914a1b",
   "metadata": {},
   "outputs": [],
   "source": [
    "def fitness(x, n):\n",
    "    count = 0\n",
    "    for i in range(n):\n",
    "        for j in range(i+1, n):\n",
    "            if abs(i-j)==abs(x[i]-x[j]):\n",
    "                count = count + 1\n",
    "    return count"
   ]
  },
  {
   "cell_type": "markdown",
   "id": "4467625c",
   "metadata": {},
   "source": [
    "در این تابع برای بار اول ارزش همه جایگشت های تولید شده در لیست داده را حساب می کنیم."
   ]
  },
  {
   "cell_type": "code",
   "execution_count": 56,
   "id": "cb161aff",
   "metadata": {},
   "outputs": [],
   "source": [
    "def first_fit_calc(population, data, n):\n",
    "    fitness_data = np.zeros(population, dtype='int')\n",
    "    for i in range(population):\n",
    "        fitness_data[i] = fitness(data[i], n)\n",
    "    return fitness_data"
   ]
  },
  {
   "cell_type": "markdown",
   "id": "b2eda443",
   "metadata": {},
   "source": [
    "برای انتخاب والدین برای بازترکیب، از روش انتخاب مسابقه ای استفاده می کنیم.\n",
    "\n",
    "به این صورت عمل می کنیم که به صورت تصادفی از جمعیت ۳ عضو برداشته و کم ترین مقدار ارزش ( بهترین والد ) را انتخاب می کنیم.\n",
    "\n",
    "دلیل انتخاب این روش، پویش و انتفاع مناسب است."
   ]
  },
  {
   "cell_type": "code",
   "execution_count": 57,
   "id": "b8fb62b0",
   "metadata": {},
   "outputs": [],
   "source": [
    "def tournament_selection(x, f, p):\n",
    "    arr = [0, 0, 0]\n",
    "    for i in range(3):\n",
    "        arr[i] = np.random.randint(p)\n",
    "        \n",
    "    fit = [0, 0, 0]\n",
    "    for i in range(3):\n",
    "        fit[i] = f[arr[i]]\n",
    "        \n",
    "    return arr[fit.index(min(fit))]"
   ]
  },
  {
   "cell_type": "markdown",
   "id": "1f441121",
   "metadata": {},
   "source": [
    "برای بازترکیب، از روش ترکیبی استفاده می کنیم.\n",
    "زیرا بین روش ترتیبی و روش دوری برای حالت کوروموزوم جایگشتی، راحت تر عمل می کند و جایگشت های بهتری می سازد."
   ]
  },
  {
   "cell_type": "code",
   "execution_count": 58,
   "id": "9ec52646",
   "metadata": {},
   "outputs": [],
   "source": [
    "def crossover(x1, x2, n):\n",
    "    index1 = np.random.randint(n)\n",
    "    index2 = np.random.randint(n)\n",
    "    if(index1 > index2):\n",
    "        index1, index2 = index2, index1\n",
    "        \n",
    "    arr1 = np.zeros(n, dtype='int')\n",
    "    arr2 = np.zeros(n, dtype='int')\n",
    "    arr1[index1:index2+1] = x1[index1:index2+1].copy()\n",
    "    arr2[index1:index2+1] = x2[index1:index2+1].copy()\n",
    "    \n",
    "    j = index2+1\n",
    "    k = index2+1\n",
    "    \n",
    "    for i in range(n):\n",
    "        if(not (x1[(index2+1+i)%n] in arr2)):\n",
    "            arr2[j%n] = x1[(index2+1+i)%n]\n",
    "            j = j+1\n",
    "        if(not (x2[(index2+1+i)%n] in arr1)):\n",
    "            arr1[k%n] = x2[(index2+1+i)%n]\n",
    "            k = k+1\n",
    "            \n",
    "#     print(index1)\n",
    "#     print(index2)\n",
    "#     print(arr1)\n",
    "#     print(arr2)\n",
    "    return arr1, arr2"
   ]
  },
  {
   "cell_type": "markdown",
   "id": "58d1454a",
   "metadata": {},
   "source": [
    "برای جهش ابتدا روش درهم سازی در نظر گرفته شد، اما چون جایگشت رو خیلی زیاد تغییر می دهد (جواب ها خوب نبودند )، روش جا به جایی در نظر گرفته شد."
   ]
  },
  {
   "cell_type": "code",
   "execution_count": 59,
   "id": "4b5c6ada",
   "metadata": {},
   "outputs": [],
   "source": [
    "def scramble_mutation(arr, n):\n",
    "    index1 = np.random.randint(n)\n",
    "    index2 = np.random.randint(n)\n",
    "    if(index1 > index2):\n",
    "        index1, index2 = index2, index1\n",
    "    t = arr[index1].copy()\n",
    "    arr[index1] = arr[index2].copy()\n",
    "    arr[index2] = t\n",
    "        \n",
    "#     sub_arr = arr[index1:index2+1]\n",
    "#     sub_arr = np.random.permutation(sub_arr)\n",
    "#     arr[index1:index2+1] = sub_arr.copy()\n",
    "#     print(index1)\n",
    "#     print(index2)\n",
    "#     print(arr)\n",
    "    return arr"
   ]
  },
  {
   "cell_type": "markdown",
   "id": "df83e578",
   "metadata": {},
   "source": [
    "این تابع، تابع توقف ما است که بررسی می کند آیا جواب بهتر شده یا خیر."
   ]
  },
  {
   "cell_type": "code",
   "execution_count": 60,
   "id": "4f0c637e",
   "metadata": {},
   "outputs": [],
   "source": [
    "def stop_condition(fd, c, lm):\n",
    "    if(min(fd) == 0):\n",
    "        lm[0] = 0\n",
    "        return(0)\n",
    "    \n",
    "    elif(min(fd) == lm[0]):\n",
    "        return(0.5)      \n",
    "    \n",
    "    elif(min(fd) < lm[0]):\n",
    "        lm[0] = min(fd)\n",
    "        return(1)"
   ]
  },
  {
   "cell_type": "markdown",
   "id": "fdc8baa1",
   "metadata": {},
   "source": [
    "این تابع، تابع اصلی است که چند بار اجرا شده (دیفالت ۱۰ بار) تا بررسی کند که در اون تعداد بار، چند بار جواب ۰ بدست می آید.\n",
    "\n",
    "A:\n",
    "در این بخش آرایه هایی که بعدا جواب ها را داخل آنها قرار می دهیم را می سازیم.\n",
    "\n",
    "B:\n",
    "در این قسمت داده های اولیه را ساخته و ارزش آنها را محاسبه می کنیم\n",
    "\n",
    "C:\n",
    "در این بخش انتخاب والدین را انجام می دهیم\n",
    "\n",
    "D:\n",
    "در این بخش با احتمال ۰.۹۵ با والد های انتخاب شده، بازترکیب انجام می دهیم\n",
    "\n",
    "E:\n",
    "در این بخش با احتمال های مختلف، فرزند های تولید شده را جهش می دهیم\n",
    "\n",
    "F:\n",
    "در این قسمت والیدن را براساس ارزش آنها مرتب می کنیم\n",
    "\n",
    "G:\n",
    "در این قسمت فرزندان را براساس ارزش آنها مرتب می کنیم\n",
    "\n",
    "H:\n",
    "در این بخش ۳۰ درصد برتر فرزندان را با ۳۰ درصد ضعیف والدین جا به جا می کنیم (جایگزینی)"
   ]
  },
  {
   "cell_type": "code",
   "execution_count": 77,
   "id": "2f2551ae",
   "metadata": {},
   "outputs": [],
   "source": [
    "def genetic_algorithm(n, population, iteration, s=10):\n",
    "    res_min = np.zeros(s, dtype='int') #(A)\n",
    "    res_per = np.zeros((s, n), dtype='int')\n",
    "    for index in range(s):\n",
    "        count = 0\n",
    "        last_min = [100000000]\n",
    "\n",
    "        data = data_creation(n, population) #(B)\n",
    "        fitness_data = first_fit_calc(population, data, n)\n",
    "\n",
    "        while(stop_condition(fitness_data, count, last_min) != 0 and count < iteration):\n",
    "            if (stop_condition(fitness_data, count, last_min) == 0.5):\n",
    "                count += 1\n",
    "            else:\n",
    "                count = 0\n",
    "\n",
    "            children = []\n",
    "            for i in range(int(population/2)):\n",
    "                arr_index = []\n",
    "                child = []\n",
    "                for i in range(2): #(C)\n",
    "                    z = tournament_selection(data, fitness_data, population)\n",
    "                    arr_index.append(z)\n",
    "                chance = np.random.rand()\n",
    "                if(chance <= 0.95): #(D)\n",
    "                    child1, child2 = crossover(data[arr_index[0]], data[arr_index[1]], n)\n",
    "                    child.append(child1)\n",
    "                    child.append(child2)\n",
    "                else:\n",
    "                    child1, child2 = data[arr_index[0]], data[arr_index[1]]\n",
    "                    child.append(child1)\n",
    "                    child.append(child2)\n",
    "\n",
    "                chance = np.random.rand()\n",
    "                if(chance <= 1/n):   #(E)\n",
    "#                 if(chance <= 0.2):\n",
    "#                 if(chance <= 0.5):\n",
    "                    child[0], child[1] = scramble_mutation(child[0], n), scramble_mutation(child[1], n)\n",
    "                children.append(child[0])\n",
    "                children.append(child[1])\n",
    "\n",
    "            #----------------------------------------------------------------\n",
    "\n",
    "            for i in range(population): #(F)\n",
    "                fitness_data[i] = fitness(data[i], n)\n",
    "\n",
    "            sorted_fitness_data = np.sort(fitness_data)\n",
    "            sorted_data = np.zeros((population, n), dtype = 'int')\n",
    "\n",
    "            for i in range(population):\n",
    "                l = np.where(fitness_data == sorted_fitness_data[i])\n",
    "                for j in range(len(l)):\n",
    "                    sorted_data[i+j] = data[l[0][j]].copy()\n",
    "                i = i + len(l)\n",
    "            data = sorted_data.copy()\n",
    "            fitness_data = sorted_fitness_data.copy()\n",
    "\n",
    "            #-------------------------------------------------------------------\n",
    "\n",
    "            pop_child = len(children) #(G)\n",
    "            fitness_data_child = np.zeros(pop_child, dtype = 'int')\n",
    "\n",
    "            for i in range(pop_child):\n",
    "                fitness_data_child[i] = fitness(children[i], n)\n",
    "\n",
    "            sorted_fitness_data_child = np.sort(fitness_data_child)\n",
    "            sorted_child = np.zeros((pop_child, n), dtype = 'int')\n",
    "\n",
    "            for i in range(pop_child):\n",
    "                l = np.where(fitness_data_child == sorted_fitness_data_child[i])\n",
    "                for j in range(len(l)):\n",
    "                    sorted_child[i + j] = children[l[0][j]].copy()\n",
    "                i = i + len(l)\n",
    "            children = sorted_child.copy()\n",
    "            fitness_data_child = sorted_fitness_data_child.copy()\n",
    "\n",
    "            #-------------------------------------------------------------------\n",
    "\n",
    "            for i in range(int(0.3*(population))): #(H)\n",
    "                data[-1*(i+1)] = children[i].copy()\n",
    "                fitness_data[-1*(i+1)] = fitness_data_child[i].copy()\n",
    "\n",
    "        res_min[index] = last_min[0]\n",
    "        res_per[index] = data[np.where(fitness_data == min(fitness_data))[0][0]]\n",
    "\n",
    "    return res_min, res_per"
   ]
  },
  {
   "cell_type": "code",
   "execution_count": 78,
   "id": "dd2775da",
   "metadata": {},
   "outputs": [],
   "source": [
    "import matplotlib.pyplot as plt\n",
    "import numpy as np"
   ]
  },
  {
   "cell_type": "markdown",
   "id": "288de6f0",
   "metadata": {},
   "source": [
    "حالت اولی که بررسی می کنیم برای ۱۰ وزیر با جمعیت اولیه ۵۰ است زمانی که احتمال جهش برابر\n",
    "\n",
    "1/n\n",
    "\n",
    "است"
   ]
  },
  {
   "cell_type": "code",
   "execution_count": 63,
   "id": "ec6d2d0f",
   "metadata": {},
   "outputs": [
    {
     "name": "stdout",
     "output_type": "stream",
     "text": [
      "[1 0 0 0 2 0 0 0 1 0]\n",
      "[ 5  3  6 10  7  4  1  8  2  9]\n"
     ]
    },
    {
     "data": {
      "image/png": "[encoded data removed]",
      "text/plain": [
       "<Figure size 640x480 with 1 Axes>"
      ]
     },
     "metadata": {},
     "output_type": "display_data"
    }
   ],
   "source": [
    "x, y = genetic_algorithm(10, 50, 50*5) #1/n\n",
    "print(x)\n",
    "print(y[np.where(x == min(x))[0][0]])\n",
    "plt.clf()\n",
    "plt.hist(x)\n",
    "plt.show()"
   ]
  },
  {
   "cell_type": "markdown",
   "id": "5abc656a",
   "metadata": {},
   "source": [
    "در این حالت همان شرایط قبل را در حالی که جهش ۰.۲ است بررسی می کنیم.\n",
    "\n",
    "مشاهده می شود که پاسخ ها بدتر شده اند."
   ]
  },
  {
   "cell_type": "code",
   "execution_count": 65,
   "id": "c765e0ca",
   "metadata": {},
   "outputs": [
    {
     "name": "stdout",
     "output_type": "stream",
     "text": [
      "[1 1 1 1 0 0 1 1 0 1]\n",
      "[ 8  6  9  3  1  4  7 10  2  5]\n"
     ]
    },
    {
     "data": {
      "image/png": "[encoded data removed]",
      "text/plain": [
       "<Figure size 640x480 with 1 Axes>"
      ]
     },
     "metadata": {},
     "output_type": "display_data"
    }
   ],
   "source": [
    "x, y = genetic_algorithm(10, 50, 50*5) #0.2\n",
    "print(x)\n",
    "print(y[np.where(x == min(x))[0][0]])\n",
    "plt.clf()\n",
    "plt.hist(x)\n",
    "plt.show()"
   ]
  },
  {
   "cell_type": "markdown",
   "id": "3708796f",
   "metadata": {},
   "source": [
    "در این حالت جهش برابر ۰.۵ است و شرایط کمی بهتر شده است."
   ]
  },
  {
   "cell_type": "code",
   "execution_count": 66,
   "id": "749cfd63",
   "metadata": {},
   "outputs": [
    {
     "name": "stdout",
     "output_type": "stream",
     "text": [
      "[1 0 0 1 1 0 1 1 1 0]\n",
      "[ 6  3  9  2  5  8 10  7  4  1]\n"
     ]
    },
    {
     "data": {
      "image/png": "[encoded data removed]",
      "text/plain": [
       "<Figure size 640x480 with 1 Axes>"
      ]
     },
     "metadata": {},
     "output_type": "display_data"
    }
   ],
   "source": [
    "x, y = genetic_algorithm(10, 50, 50*5) #0.5\n",
    "print(x)\n",
    "print(y[np.where(x == min(x))[0][0]])\n",
    "plt.clf()\n",
    "plt.hist(x)\n",
    "plt.show()"
   ]
  },
  {
   "cell_type": "markdown",
   "id": "fab56ed7",
   "metadata": {},
   "source": [
    "در اینجا برای ۱۰۰ وزیر با جمعیت اولیه ۸۰ امتحان می کنیم که به نسبت پاسخ ها خوب است"
   ]
  },
  {
   "cell_type": "code",
   "execution_count": 68,
   "id": "4e0f972b",
   "metadata": {},
   "outputs": [
    {
     "name": "stdout",
     "output_type": "stream",
     "text": [
      "[2 1 0 0 2]\n",
      "[ 37  45   1  68  13  29  16  85  49  79  97  39  69  47  88  28  67  24\n",
      "  80  21  35  89  94  77  30  41  48   9  58  82  15  54  61  11  70  98\n",
      "  20  32  93  33  44  46  10  81  18  90  86  95 100  26  75  12  84  96\n",
      "  23   4  59  55  76  60   5  34  17   7  83   3  56  78  40  52   6  42\n",
      "  25  65  22  62  51  53  36  99  71  74   8  63  72  14  43  19  38   2\n",
      "  27  50  92  57  73  91  66  31  87  64]\n"
     ]
    },
    {
     "data": {
      "image/png": "[encoded data removed]",
      "text/plain": [
       "<Figure size 640x480 with 1 Axes>"
      ]
     },
     "metadata": {},
     "output_type": "display_data"
    }
   ],
   "source": [
    "x, y = genetic_algorithm(100, 80, 80*5, 5) #1/n\n",
    "print(x)\n",
    "print(y[np.where(x == min(x))[0][0]])\n",
    "plt.clf()\n",
    "plt.hist(x)\n",
    "plt.show()"
   ]
  },
  {
   "cell_type": "markdown",
   "id": "41fb1f7b",
   "metadata": {},
   "source": [
    "حال با جمعیت اولیه ۱۲۰ امتحان می کنیم. پاسخ ها کمی بدتر شده اند"
   ]
  },
  {
   "cell_type": "code",
   "execution_count": 69,
   "id": "6564b029",
   "metadata": {},
   "outputs": [
    {
     "name": "stdout",
     "output_type": "stream",
     "text": [
      "[0 1 2 1 1]\n",
      "[ 28  55  48  36  61  68  85  13  18  74  92  31  29  65  45  89  51  10\n",
      "  76  95  44  30  77  46  94  27  37   6  87   1  67  39  93  97  59  71\n",
      "  52  84  23  33  72  38  32   3  63  41  22  96  14  64  25  99   8  57\n",
      "  80  82  98   9  70  12  40  34  43  26  21  16  53  81  73  69  20  60\n",
      "   5   7   2  17  50  47  91 100  66  35  83  90  49  62  54  42  79  19\n",
      "  78  58   4  88  86  56  15  75  11  24]\n"
     ]
    },
    {
     "data": {
      "image/png": "[encoded data removed]",
      "text/plain": [
       "<Figure size 640x480 with 1 Axes>"
      ]
     },
     "metadata": {},
     "output_type": "display_data"
    }
   ],
   "source": [
    "x, y = genetic_algorithm(100, 120, 80*5, 5) #1/n\n",
    "print(x)\n",
    "print(y[np.where(x == min(x))[0][0]])\n",
    "plt.clf()\n",
    "plt.hist(x)\n",
    "plt.show()"
   ]
  },
  {
   "cell_type": "markdown",
   "id": "8c06a96b",
   "metadata": {},
   "source": [
    "بنابراین ۸۰ جمعیت مناسبی بود. حال جهش را دوباره روی ۰.۲ می گذاریم که نشان می دهد شرایط بهتر نشده."
   ]
  },
  {
   "cell_type": "code",
   "execution_count": 71,
   "id": "aa3b9c6e",
   "metadata": {},
   "outputs": [
    {
     "name": "stdout",
     "output_type": "stream",
     "text": [
      "[1 3 1 2 2]\n",
      "[ 83  77  24  21  33  30  81  53  12  43  36  51  54  66  72  16   9  34\n",
      "  23  76  44  84   5  32  93  87  18  86  10  42  85   2  17  41 100  91\n",
      "  56  47  71  58  19  78  80  55  64  11  60  99  46  27  57  38  73  28\n",
      "  89  98  26  88  97  61  96  14  90  74   4   7  69  13  25  63   3   6\n",
      "  31  37  62  52  65   8  50  95  70  48  29  79  40  59  35  15  94  75\n",
      "   1  82  22  45  39  68  20  92  67  49]\n"
     ]
    },
    {
     "data": {
      "image/png": "[encoded data removed]",
      "text/plain": [
       "<Figure size 640x480 with 1 Axes>"
      ]
     },
     "metadata": {},
     "output_type": "display_data"
    }
   ],
   "source": [
    "x, y = genetic_algorithm(100, 80, 80*5, 5) #0.2\n",
    "print(x)\n",
    "print(y[np.where(x == min(x))[0][0]])\n",
    "plt.clf()\n",
    "plt.hist(x)\n",
    "plt.show()"
   ]
  },
  {
   "cell_type": "markdown",
   "id": "3782a1cb",
   "metadata": {},
   "source": [
    "حال جمعیت اولیه را کاهش داده و همچنین جهش را روی ۰.۵ می گذاریم.\n",
    "مشخص می شود که تا اینجا بهترین جواب برای ۱۰۰، جمعیت اولیه ۸۰ و جهش \n",
    "\n",
    "1/n\n",
    "\n",
    "بوده است"
   ]
  },
  {
   "cell_type": "code",
   "execution_count": 72,
   "id": "58fa34b7",
   "metadata": {},
   "outputs": [
    {
     "name": "stdout",
     "output_type": "stream",
     "text": [
      "[3 4 1 2 2]\n",
      "[ 72  25  62  21   4  17  15  84  55  23  40  30  43  95  89  59  24  45\n",
      "  53  88  79  71  63  10  58  22   3  12  56  86  36  94  99  78  44  46\n",
      "  68  42  80  28  73  92  35  18 100  11   2  83  32  39  51  49  67  33\n",
      "   6  77  81  19   7  37  54  14  66  76  31  57  93  96  85   1  91  70\n",
      "  75  20  69  82  48  50  98  61  41  97   5  27  65  87  16  29  74   9\n",
      "  64  26  13  52  90  34  60  38   8  47]\n"
     ]
    },
    {
     "data": {
      "image/png": "[encoded data removed]",
      "text/plain": [
       "<Figure size 640x480 with 1 Axes>"
      ]
     },
     "metadata": {},
     "output_type": "display_data"
    }
   ],
   "source": [
    "x, y = genetic_algorithm(100, 64, 80*5, 5) #0.5\n",
    "print(x)\n",
    "print(y[np.where(x == min(x))[0][0]])\n",
    "plt.clf()\n",
    "plt.hist(x)\n",
    "plt.show()"
   ]
  },
  {
   "cell_type": "markdown",
   "id": "8a46c03d",
   "metadata": {},
   "source": [
    "شرایط توقف را بالاتر می بریم که نشان می دهد شرایط کمی بهتر می شود"
   ]
  },
  {
   "cell_type": "code",
   "execution_count": 73,
   "id": "cf906fa9",
   "metadata": {},
   "outputs": [
    {
     "name": "stdout",
     "output_type": "stream",
     "text": [
      "[2 1 1]\n",
      "[ 45  17  55  36  13  82  40  96  74  47  85  19  16  68  49  78  84  27\n",
      "   5  83  15  41  37  44  97  79  43  11  30  86   3  58  23   8  76  48\n",
      "  12  33  61  57  28  70  31  75  69  91  94   2  95  92 100  54  80  38\n",
      "  66  29  20  88  59  53  99  67  73  93  42  64  56  18   6  50   9  90\n",
      "  98  21  60  72  10  77  14  63  46  26  32  25  89  52   4  22  35  71\n",
      "  62   7  24  34  87  51   1  65  81  39]\n"
     ]
    },
    {
     "data": {
      "image/png": "[encoded data removed]",
      "text/plain": [
       "<Figure size 640x480 with 1 Axes>"
      ]
     },
     "metadata": {},
     "output_type": "display_data"
    }
   ],
   "source": [
    "x, y = genetic_algorithm(100, 80, 500, 3) #0.2\n",
    "print(x)\n",
    "print(y[np.where(x == min(x))[0][0]])\n",
    "plt.clf()\n",
    "plt.hist(x)\n",
    "plt.show()"
   ]
  },
  {
   "cell_type": "markdown",
   "id": "f7503ef4",
   "metadata": {},
   "source": [
    "حال برای ۲۰۰ وزیر امتحان می کنیم که جواب نسبتا خوب با تنها ۱ تهدید می دهد. احتمالا اگر کمی تعداد نسل ها و همچنین جمعیت اولیه را افزایش دهیم، به تهدید صفر می رسیم"
   ]
  },
  {
   "cell_type": "code",
   "execution_count": 74,
   "id": "7b592b0d",
   "metadata": {},
   "outputs": [
    {
     "name": "stdout",
     "output_type": "stream",
     "text": [
      "[1]\n",
      "[ 74 104 200  75 132  54  15 108 165 133  88 115 188  60 135 163  14 175\n",
      " 157 106  34 156  97 186  13  38 142 134 105 131 141  72 147  51  82  67\n",
      "  63  56 136  81  99 167 183 127  69 196  33 117  29  59  12  41  28 116\n",
      "   2  55 189 128  92   8 112 155  25 151 125  16  10 184  83 154  58 124\n",
      "  73 187  35  47 107   5 174 199 113 181 162  17 146  77  43   4  44 126\n",
      "  37  66 185 150  30  40 160 123 109 194  94 198  45 158  87  65 111 143\n",
      "  26 144  80 180   6  84 153 191  27 177  48  18  36  42  96 161 164 190\n",
      " 171  19 119  98  23 148  22 101  76  20  68 103 166 168  79   7  64  24\n",
      "  52 130 197 170 152   3  85  61 129  31  78  46 120 169 138  21  39 140\n",
      " 102 193 118  90 159 145 176  70 122  86 139 114  57   1 178   9 173 110\n",
      "  62  32  91  50 121 182 172  11  95  49 149  89 195 192  71 179  53  93\n",
      " 100 137]\n"
     ]
    },
    {
     "data": {
      "image/png": "[encoded data removed]",
      "text/plain": [
       "<Figure size 640x480 with 1 Axes>"
      ]
     },
     "metadata": {},
     "output_type": "display_data"
    }
   ],
   "source": [
    "x, y = genetic_algorithm(200, 80, 600, 1) #0.2\n",
    "print(x)\n",
    "print(y[np.where(x == min(x))[0][0]])\n",
    "plt.clf()\n",
    "plt.hist(x)\n",
    "plt.show()"
   ]
  },
  {
   "cell_type": "markdown",
   "id": "f036da9e",
   "metadata": {},
   "source": [
    "حال برای ۵۰۰ وزیر امتحان می کنیم"
   ]
  },
  {
   "cell_type": "code",
   "execution_count": 75,
   "id": "d2dcee7a",
   "metadata": {},
   "outputs": [
    {
     "name": "stdout",
     "output_type": "stream",
     "text": [
      "[31]\n",
      "[444 280  10 294 330 399 115 267 355 400 232 180 122 218  73 155 290  50\n",
      " 234 379 321  82 186 385 179 300 222 455 249 377 427  98 384 332  45  85\n",
      " 244 404 264 421 229 135 334  17 245 258 191  57 182  22 433 199 478 315\n",
      " 228 128 102 299 381  49 314  88 311 476 136 389 496 151 205 440  25 197\n",
      " 482 353  58 309 358 442 474  43 273  42 257 395 282  29  21 405 425  28\n",
      " 453 223  24 347 329 175 144 285 319 123 327 193 398 143 462 382 301 434\n",
      " 227 348 426 492 164 364 458 149 471 387 456  72  66 450 306 239 195 307\n",
      "  26 357 214 418 420 340 349 305 392 337 212  68 150 160 297  33 484 206\n",
      " 446 325 211 255 237 167  79 213 408 460 161  65 241 351 171  75 491  46\n",
      " 345 129  55 158  15 296 153  63 166 119 438 413 486 423  16 490  81 221\n",
      "  41 220 185 390 336 432 110 374  53 266 283  37 207 328 259 489 449 114\n",
      " 225  27  62 430  76  84 101 383   4 295 493   2  83 203 388  30  69 190\n",
      " 375 138 178 366 445 154 323  34  14  31 354 464 217  20   3 481 226 104\n",
      " 373 341 435 316 302 498  11  89 494 443   9 411 370 145 410 265 372 271\n",
      " 472 463 424 156 192 248 177 163 291 100 116 362 320 147 477 367 447  35\n",
      " 242 324 313  12 331 466 401 272 451 279  47  95 152 397 470 500 483 394\n",
      " 235 157   8 233 254 342 317  74 437 202 396  48 196  51  77  92 417 422\n",
      " 263 457  80  19 141 224 439 243 121 333  99  61 365 415 308 108  59 133\n",
      " 378 127 356 310 293 416 181 488 162 352 172 131  44 201 137   1 431 268\n",
      " 219 318 130  87 461 194 391 112 256 250   7 262 173 497 467 487 278 346\n",
      " 184 343 103  38 289  78   5 148 339  67 436  54  97 284 106 363  71 124\n",
      " 236 139 109 361 113 216 338 371 169  23  36 230 120 146  94  40  93 499\n",
      " 465 452 261 287 252 429 380 344 125 479 126 118 210 469 168 360  91  18\n",
      " 240 304  60 292 454 170 270  64 183 393   6 376  90 428 247  13  32 215\n",
      " 208 402 485 369 132 111  52 275  39 246 188 159 200 480 414 276 105 134\n",
      " 174 448 142 475 286 209 473 335 165 409 238 269 468 403 140 253 189 412\n",
      " 406 359 198  86  70 176  96 288 303 322  56 117 277 251 459 350 326 441\n",
      " 187 281 368 298 495 419 274 407 386 107 312 231 260 204]\n"
     ]
    },
    {
     "data": {
      "image/png": "[encoded data removed]",
      "text/plain": [
       "<Figure size 640x480 with 1 Axes>"
      ]
     },
     "metadata": {},
     "output_type": "display_data"
    }
   ],
   "source": [
    "x, y = genetic_algorithm(500, 80, 800, 1) #0.2\n",
    "print(x)\n",
    "print(y[np.where(x == min(x))[0][0]])\n",
    "plt.clf()\n",
    "plt.hist(x)\n",
    "plt.show()"
   ]
  },
  {
   "cell_type": "markdown",
   "id": "70a14b1e",
   "metadata": {},
   "source": [
    "تعداد تهدید حالت قبل زیاد بود، به همین علت با جهش \n",
    "\n",
    "1/n\n",
    "\n",
    "امتحان می کنیم. اما مشاهده می کنیم که احتمال جهش ۰.۲ نتیجه بهتری دارد."
   ]
  },
  {
   "cell_type": "code",
   "execution_count": 79,
   "id": "127d9be4",
   "metadata": {},
   "outputs": [
    {
     "name": "stdout",
     "output_type": "stream",
     "text": [
      "[200]\n",
      "[462 327 402  29  31 100 473 420  76 150 278 415 472 363 283 212  81 328\n",
      " 272 148 378  86 173 181  34 395  84 276 203 127 409 164 233 293 252 456\n",
      " 125  59 284 248 323 180 141  82 483 105  20 129 265 139 354 296 450 282\n",
      " 256 393 239 464 227 445  17 353 175 424 453 399  63 345 258 497 356 297\n",
      " 333 364 496 123 147 376 299 411 214   6 188 447 444  53 358 116 403  16\n",
      " 292 484 111 224 338 102 365 384 371 177 221 482 488 330 157  11 285 321\n",
      " 441 172 440 306 413 144 455 301 113  79  36 414   3 199 459 366  89 240\n",
      " 405 140  74 171 357 476  77 344 368 110  80 442  23 372 425  44 223 360\n",
      " 254  67   2 457  26  90 269 209 156 314 491 383  87  64 500 130  71 416\n",
      " 470 379 396 117 257 370  12 238 288  98 229 485 262 237 322 270 390 225\n",
      " 174 437 312 153 433 428  51  85 386 492 302 352 208 131 320 436  22  15\n",
      "  25 246 410  66 146 308  47 170 346 222 167 391 160 317 169 329  50 202\n",
      " 290 151 101 120 132 351 277 249 185 109 341 397 154  37 289 451 271 253\n",
      "  78 137 325  52 461 493 392  10 349 251  68 469 115  46 138 426 466 143\n",
      " 421  28 417 204 361 218 155 465 427 133 430 474  94  32 250 431 268  21\n",
      " 478 122 103 178 162 481 449 454  88 309 490 375 407 406 195 159  18 404\n",
      " 389   9 498 305 275 336 400 362 205 128 179 458 152 182   7 347 219  56\n",
      " 206 193  45 381 334  39 236 266 315  30 264 149  97 213 145 104 273 217\n",
      " 119 234  38  57 274 298 418  62 241 189  91  60   8  19  93 142 106 190\n",
      "  70 210 197 408 300 439 304 377 168 215  83 343  99 313 460 499 287  43\n",
      " 228 216 316 380 255 388 495 467  55  48 382 259  14 339 422 359 412 184\n",
      " 452 108 369 261 165  58 443 121 489 226 432  41 348 463 163 286 434  24\n",
      " 166 135 207 468 480  96 319 112 267 183 235 114 374 198 494 429 291 263\n",
      " 387 191 176 134 295 192 118 220 335 244 294 126 435  49  13 243 186 331\n",
      " 367  35  54 486 438 332 479 318   1 107 394 280  42 477 310  95 324 247\n",
      " 124   4 355 423  92 232 326  61 230 350 161 187 279 281  72  33 487 158\n",
      " 373 196 401  73 419 475 211   5 303 245 311 446 200 448 398 231 307  40\n",
      "  27  69  75  65 194 337 201 136 340 471 385 342 242 260]\n"
     ]
    },
    {
     "data": {
      "image/png": "[encoded data removed]",
      "text/plain": [
       "<Figure size 640x480 with 1 Axes>"
      ]
     },
     "metadata": {},
     "output_type": "display_data"
    }
   ],
   "source": [
    "x, y = genetic_algorithm(500, 80, 800, 1) #1/n\n",
    "print(x)\n",
    "print(y[np.where(x == min(x))[0][0]])\n",
    "plt.clf()\n",
    "plt.hist(x)\n",
    "plt.show()"
   ]
  }
 ],
 "metadata": {
  "kernelspec": {
   "display_name": "Python 3 (ipykernel)",
   "language": "python",
   "name": "python3"
  },
  "language_info": {
   "codemirror_mode": {
    "name": "ipython",
    "version": 3
   },
   "file_extension": ".py",
   "mimetype": "text/x-python",
   "name": "python",
   "nbconvert_exporter": "python",
   "pygments_lexer": "ipython3",
   "version": "3.8.6"
  }
 },
 "nbformat": 4,
 "nbformat_minor": 5
}
